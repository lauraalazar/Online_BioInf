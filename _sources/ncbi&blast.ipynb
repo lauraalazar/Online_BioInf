{
 "cells": [
  {
   "cell_type": "markdown",
   "metadata": {},
   "source": [
    "# Herraminetas de NCBI\n",
    "\n",
    "The National Center for Biotechnology Information (NCBI), https://ncbi.nlm.nih.gov/, es una de las colecciones de bases de datos mas importantes. Contiene secuencias de DNA, proteínas, datos taxonómicos, publicaciones etc. "
   ]
  },
  {
   "cell_type": "markdown",
   "metadata": {},
   "source": [
    "## Búsqueda de secuencias"
   ]
  },
  {
   "cell_type": "markdown",
   "metadata": {},
   "source": [
    "Escoja la base de datos \"Protein\" y escriba en la barra \"Cytochrome B Homo sapiens neanderthalensis\". Escoja la proteína de referencia (RefSeq Proteins) y copie el ID de esta proteína"
   ]
  },
  {
   "cell_type": "markdown",
   "metadata": {},
   "source": [
    "### Por explorador\n",
    "Primero vamos a explorar la base de datos de NCBI con \"clicks\" y después los haremos desde un script de python. Entre a https://www.ncbi.nlm.nih.gov/ y despliegue la pestaña \"All Databases\" para ver las opciones."
   ]
  },
  {
   "cell_type": "markdown",
   "metadata": {},
   "source": [
    "\n",
    "### Desde script de python\n",
    "\n",
    "Ahora vamos a realizar la búsqueda por ID desde python"
   ]
  },
  {
   "cell_type": "code",
   "execution_count": null,
   "metadata": {},
   "outputs": [],
   "source": [
    "#!/usr/local/bin/\n",
    "\n",
    "# Script por Laura Salazar Jaramillo\n",
    "# Busca la secuencia de proteinas del citocromo B de neanderthales\n",
    "\n",
    "\n",
    "from Bio import Entrez\n",
    "from Bio import SeqIO\n",
    "\n",
    "Entrez.email = \"laura.salazar38@eia.edu.co\"\n",
    "\n",
    "with Entrez.efetch(\n",
    "    db=\"protein\", rettype=\"fasta\", retmode=\"text\", id=\"YP_002124314.2\") as handle:\n",
    "    seq_record = SeqIO.read(handle, \"fasta\")\n",
    "\n",
    "print(seq_record)\n",
    "SeqIO.write(seq_record, \"hsneanderthal_cytb_prot.fa\", \"fasta\")"
   ]
  },
  {
   "attachments": {},
   "cell_type": "markdown",
   "metadata": {},
   "source": [
    "\n",
    "# Búsqueda por similitud molecular\n",
    "\n",
    "La búsqueda de similitudes es un primer paso para encontrar  información útil sobre funcionalidad y/o ancestría. A la hora de buscar similitud en bases de datos extensas, los algoritmos de programación dinámica (como Needleman-Wunsch y Smith-Waterman) son ineficientes. Las herramientas mas eficientes son heurísticas: \"atajos\" algoritmicos que no producen una solición óptima global, pero que son mucho más rápidos y eficientes. Ahora vamos a realizar la búsqueda de las secuencias mas similares de todas las disponibles en la base de datos usando Basic Local Alignment Search Tool, BLAST  (Altschul et al. 1997; Altschul et al. 1990)\n"
   ]
  },
  {
   "cell_type": "markdown",
   "metadata": {},
   "source": [
    "## Repaso de conceptos clave de similitud\n",
    "\n",
    "- **Secuencias homólogas**: similitud por ancestría común\n",
    "- **Alineamiento** global vs local: ordenamiento de secuencias según similitud. **Global**: utiliza toda la secuencia. **Local**: utiliza los fragmentos más similares\n",
    "- **Secuencias conservadas**: aquellas que comparten nucleótidos o aminoacidos en la misma posición (opuesto en divergentes)\n",
    "- **Score**: parámetro que indica la calidad del alineamiento\n",
    "- **Dendograma** (Cladograma): hipótesis sobre relación evolutiva de secuencias"
   ]
  },
  {
   "attachments": {},
   "cell_type": "markdown",
   "metadata": {},
   "source": [
    "# Basic Local Alignment Search Tool (BLAST)\n",
    "\n",
    "Dada una o mas secuencias problema *query* (usualmente en formato FASTA), BLAST busca regionse de apareamiento de secuencias (*match*) en un grupo de secuencias (una *base de datos*).\n",
    "\n",
    "Antes de realizar una búsqueda en BLAST, se genera un índice que consiste de *palabras* de una longitud *k*, las cuales se denominan **k-mers**. Éste índice se almacena en la memoria RAM del computador, así que BLAST puede ser muy rápido buscando estas palabras. Para inciar una búsqueda por similitud, el algoritmo de BLAST primero busca en la secuencia consulta (*query*). usando la base de datos indexada, las secuencias que contengan un score alto de k-mers son escogidas. De allí se realiza un alineamiento local alreadedor de estos k-mers."
   ]
  },
  {
   "cell_type": "markdown",
   "metadata": {},
   "source": [
    "<img src=\"I.7_1_blast_illustration.png\"/>"
   ]
  },
  {
   "attachments": {},
   "cell_type": "markdown",
   "metadata": {},
   "source": [
    "<img src=\"blast_glossary-Image001.jpg\"/>"
   ]
  },
  {
   "attachments": {},
   "cell_type": "markdown",
   "metadata": {
    "vscode": {
     "languageId": "shellscript"
    }
   },
   "source": [
    "### Tipos de BLAST\n",
    "\n",
    "De acuerdo a la búsqueda que necesitemos hay diferentes tipos de [blast](https://desmid.github.io/mview/manual/blast/blast2.html):\n",
    "\n",
    "- blastn: búsqueda de nucleótidos en base de datos de nucleótidos\n",
    "- blastp: búsqueda de proteína en base de datos de proteínas\n",
    "- blastx: búsqueda de nucleótidos en base de datos de proteínas, traduciendo la secuencia query en diferentes marcos de lectura \n",
    "- tblastn: búsqueda de proteínas en base de datos de nucleótidos, traduciendo los hit en diferentes marcos de lectura \n",
    "- tblastx: búsqueda de nucleótidos en base de datos de nucleótidos, traduciendo query y hit en diferentes marcos de lectura \n",
    "- psiblast: Position Specific Iterated-BLAST (PSI-BLAST) es basado en blastp pero utiliza los perfiles de conservación para hallar secuencias distantemente relacionadas\n"
   ]
  },
  {
   "cell_type": "markdown",
   "metadata": {},
   "source": [
    "<img src=\"I.7_2_blast_types.png\"/>"
   ]
  },
  {
   "cell_type": "markdown",
   "metadata": {},
   "source": [
    "### E-value (Expectation-values)\n",
    "\n",
    "Cuando realizamos una búsqueda por similitud, es importante identificar si la secuencia target es significativamente similar a la query. En este caso la significancia significa que el score del alineamiento (S) es mayor que uno esperado al azar. Un hit siempre va a tener algún tipo de similitud, y la probabilidad de encontrar un score alto aumenta con una secuencia query mas larga (m) y/o una base de datos mas grande (n). Para cuantificar la significancia de un hit, calculamos el E-value (E), que representa el número de hits esperados con un score mínimo de *S*, usando una secuencia query de longitud *m*, y una búsqueda aleatoria en una base de datos n ($\\lamda$ y K son parámetros para escalar y normalizar la base de datos y valores E): "
   ]
  },
  {
   "cell_type": "markdown",
   "metadata": {},
   "source": [
    "$$\n",
    " E = K * m *n * e^{$\\lamda$ S}\n",
    "$$"
   ]
  },
  {
   "cell_type": "markdown",
   "metadata": {},
   "source": [
    " Algunas reglas no formales (\"rules of thumb\") que pueden servir como guía para considerar la significancia de los hit:\n",
    "\n",
    "- $E-value < 10e^{-100}$ Secuencias idénticas. Esperarías un alineamiento largo y completo entre la secuencia de consulta y hit\n",
    "- $10e^{-50} < E-value < 10e^{-100}$ Secuencias casi idénticas. Esperarías un fragmento largo de alineamiento entre la secuencia de consulta y hit\n",
    "- $10e^{-10} < E-value < 10e^{-50}$ Secuencias cercanas o un *dominio*\n",
    "- $1 < E-value < 10e^{-6}$ Podría ser un homólogo, pero es un área gris\n",
    "- $E-value > 1$ Las proteínas probablemente no están relacionados\n",
    "- $E-value > 10$ Los hits son irrelevantes o la secuencia consulta muy pequeña"
   ]
  },
  {
   "cell_type": "markdown",
   "metadata": {},
   "source": [
    "## Búsqueda de BLAST en la web\n",
    "\n",
    " Entre a https://blast.ncbi.nlm.nih.gov/Blast.cgi. Allí verá las diferentes opciones de BLAST. Vamos a buscar las proteínas homólogas al citocromo B de *H. neanderthalensis* que descargamos."
   ]
  },
  {
   "cell_type": "markdown",
   "metadata": {},
   "source": [
    "1. Entre a https://blast.ncbi.nlm.nih.gov/Blast.cgi y escoja la opción \"Protein Blast\" (porque nuestra secuencia es una proteína)\n",
    "2. En la casilla en blanco pegue el fragmento de la secuencia descargada del Citocromo B de *H. sapiens neanderthalensis*\n",
    "3. Deje los parámetros por defecto y de click en \"BLAST\".\n",
    "4. El resultado tabular que aparece lista los mejores hits (de toda la base de datos, si no hubo filtros)\n",
    "5. En la pestaña \"Graphic Summary\" verá una representación gráfica del alineamiento, donde el color rojo  muestra los *matches*\n",
    "6. En la pestaña \"Alignment\" encontrará el alineamiento de la secuencia *query* (la que nosotros escogimos) con los mejores hits y la información del alineamiento"
   ]
  },
  {
   "cell_type": "markdown",
   "metadata": {},
   "source": [
    "<div class=\"alert alert-block alert-info\">\n",
    "<b>Ejercicio</b> \n",
    "Supongamos que debemos diseñar unos primers para identificar H. neanderthalensis. Como somos humanos y nuestras secuencias son altamente similares, estos primers deben tener suficiente especificidad para discriminar entre las dos especies. Cómo identificaría una posición idóndea para diseñar los primers? Cómo verificaría que estos primers que diseño sí amplifiquen *H. neanderthalensis* (que tengan sensibilidad) pero no amplifiquen humans (especificidad). \n",
    "Puede diseñar los primers manualmente o ayudarse con la herramienta primerBlast: https://www.ncbi.nlm.nih.gov/tools/primer-blast/\n",
    "</div>"
   ]
  }
 ],
 "metadata": {
  "kernelspec": {
   "display_name": "Python 3 (ipykernel)",
   "language": "python",
   "name": "python3"
  },
  "language_info": {
   "codemirror_mode": {
    "name": "ipython",
    "version": 3
   },
   "file_extension": ".py",
   "mimetype": "text/x-python",
   "name": "python",
   "nbconvert_exporter": "python",
   "pygments_lexer": "ipython3",
   "version": "3.8.1"
  },
  "widgets": {
   "application/vnd.jupyter.widget-state+json": {
    "state": {},
    "version_major": 2,
    "version_minor": 0
   }
  }
 },
 "nbformat": 4,
 "nbformat_minor": 4
}
