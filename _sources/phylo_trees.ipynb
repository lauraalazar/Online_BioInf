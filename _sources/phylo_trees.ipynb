{
 "cells": [
  {
   "cell_type": "markdown",
   "metadata": {},
   "source": [
    "# Inferencia filogenética y árboles\n",
    "\n",
    "Un árbol filogenético es la representación de una hipótesis de relaciones ancestrales. En esta representación, las especies o secuencias de interés estan en las puntas (*tips*) de las ramas. El nodo donde se unen las ramas representa el ancestro común. El tiempo por lo tanto va desde el ancestro común hacia las puntas, en la siguiente figura el tiempo sería el eje horizontal x  "
   ]
  },
  {
   "cell_type": "markdown",
   "metadata": {},
   "source": [
    "<img src=\"Anatomy_tree.png\"/>"
   ]
  },
  {
   "cell_type": "markdown",
   "metadata": {},
   "source": [
    "\n",
    "## Inferencia Filogenética\n",
    "\n",
    "El cálculo de las distancias y el orden de agrupamiento es la fuente para realizar una inferencia filogenética. Primero se utilizan métodos de agrupamiento (*cluster*) basados en una **matriz de distancia**. Esta matriz es calculada a partir de una medida de similitud (por ejemplo entre morfologías o un alineamiento). Este primer agrupamiento no agarantizan una solución óptima, así que en segundo lugar se busca el mejor árbol. Vamos a ver aquí dos métodos: el de parsimonia y el d maximum likelihood. Los ejemplos en R han sido tomados del siguiente tutorial: https://rpubs.com/mvillalobos/L01_Phylogeny.\n",
    "\n",
    "Vamos a ver primero como generar un árbol a partir de distancias y luego volveremos al cálculo de la matriz de distancia apartir de un alineamiento"
   ]
  },
  {
   "cell_type": "markdown",
   "metadata": {},
   "source": [
    "## Matriz de distancia\n",
    "\n",
    "La matriz de distancia, *d* es simétrica ya que la distancia de *i* a *j* es igual que la de *j* a *i* y puede ser calculada con diferentes métodos. Por ejemplo *d* puede ser el número de diferencias morfológicas o posiciones que no hacen match.\n",
    "\n",
    "La matriz de distancia es el input para los algoritmos de agrupamiento (clustering). Estos funcionan en general de la siguiente forma:\n",
    "- Se agrupan los dos clusters mas cercanos para formar un cluster mayor\n",
    "- Se recalculan las distancias entre todos los clusters y el \"nuevo\" cluster.\n",
    "- Se repiten los pasos anteriores hasta que todas las secuencias se han unido a un cluster\n",
    "\n",
    "Dos algoritmos ampliamente usados son UPGMA y Neighbor-Joining"
   ]
  },
  {
   "cell_type": "markdown",
   "metadata": {},
   "source": [
    "<img src=\"Dmat.png\"/>"
   ]
  },
  {
   "cell_type": "code",
   "execution_count": null,
   "metadata": {
    "vscode": {
     "languageId": "r"
    }
   },
   "outputs": [],
   "source": [
    "# Load the 'Biostrings' package. \n",
    "# 'Biostrings' provides efficient containers to handle and analyze biological sequences.\n",
    "library(Biostrings)\n",
    "library(ape)\n",
    "# Si no lo ha hecho, instale phangorn:\n",
    "#install.packages(\"phangorn\")\n",
    "library(phangorn)\n",
    "\n",
    "# Vamos a crear la matriz de distancia D de la figura entre 5 especies o secuencias\n",
    "D <- matrix(c(0,12,12,12,12,\n",
    "                             12,0,4,6,6,\n",
    "                             12,4,0,6,6,\n",
    "                             12,6,6,0,2,\n",
    "                             12,6,6,2,0), byrow = TRUE, ncol = 5)\n",
    "\n",
    "# Esta forma de escribirlo le dice a R que distribuya el vector de secuencias \n",
    "# por hileras \"byrow=T y en 5 columnas \"ncol=5\"\"\n",
    "# Esta matriz representa la distancia por pares entre \n",
    "# un vector en las columnas y uno en las hileras\n",
    "D\n",
    "\n",
    "# Le damos los nombres a las hileras\n",
    "rownames(D) <- c(\"a\",\"b\",\"c\",\"d\",\"e\")"
   ]
  },
  {
   "cell_type": "markdown",
   "metadata": {},
   "source": [
    "<div class=\"alert alert-block alert-info\">\n",
    "<b>Ejercicio</b> Cómo interpretaría esta matriz? Por qué cree que es \"ultramétrica\"? Que especies o secuencias se agruparían primero? </div>"
   ]
  },
  {
   "cell_type": "markdown",
   "metadata": {},
   "source": [
    "### UPGMA: Unweighted Pair Group Method with Arithmetic mean\n",
    "\n",
    "El método UPGMA es un ejemplo de cluster jerárquico. La distancia entre dos clusters se calcula con la media de las distancias entre cada punto del primer cluster al segundo cluster\n",
    "\n",
    "En el siguiente link puede encontrar un ejemplo paso a paso para construir el siguiente agrupamiento: http://www.slimsuite.unsw.edu.au/teaching/upgma/"
   ]
  },
  {
   "cell_type": "markdown",
   "metadata": {},
   "source": [
    "<img src=\"upgma15.png\"/>"
   ]
  },
  {
   "cell_type": "code",
   "execution_count": null,
   "metadata": {
    "vscode": {
     "languageId": "r"
    }
   },
   "outputs": [],
   "source": [
    "\n",
    "# Ahora vamos a agrupar los elemento\n",
    "UPGMA <- upgma(as.dist(D))\n",
    "\n",
    "# Y graficamos el cluster\n",
    "plot(UPGMA)"
   ]
  },
  {
   "cell_type": "markdown",
   "metadata": {},
   "source": [
    "### NJ: Neighbour Joining\n",
    "\n",
    "Mientras que en un árbol realizado con UPGMA todos los puntos están alineados y las ramas tienen la misma distancia (porque las distancias se calculan por la media), en NJ se calcula la “distancia acumulada” para cada secuencia i (A-E),  $U_i = Σ d_{ij}$. Usando esta distancia acumulada Ui, se calcula una matriz de distancia $e_{ij}$ (para cada par de de secuencias i ay j), de acuerdo a la fórmula \n",
    "\n",
    "$e_{ij}$ = $d_{ij}$– $\\frac{U_i + U_j}{N – 2}$"
   ]
  },
  {
   "cell_type": "markdown",
   "metadata": {},
   "source": [
    "<img src=\"NJfig.png\"/>"
   ]
  },
  {
   "cell_type": "code",
   "execution_count": null,
   "metadata": {
    "vscode": {
     "languageId": "r"
    }
   },
   "outputs": [],
   "source": [
    "# Calculamos el agrupamiento con NJ\n",
    "NJ <- NJ(as.dist(D))\n",
    "\n",
    "# Y graficamos el árbol\n",
    "plot(NJ)"
   ]
  },
  {
   "cell_type": "markdown",
   "metadata": {},
   "source": [
    "### Matriz de distancia entre secuencias\n",
    "\n",
    "Para un grupo de secuencias, la distancia se puede calular apartir del alineamiento. Esta distancia es una medida cuantitativa de la divergencia entre secuencias, y para algunas secuencias (aquellas en las que las tasas de evolución son aproximadamente similares), sirve como estimación del tiempo que ha pasado entre esta divergencia (llamado el *reloj molecular*). \n",
    "\n",
    "Para comenzar, realizamos el alineamiento entre secuencias"
   ]
  },
  {
   "cell_type": "code",
   "execution_count": null,
   "metadata": {
    "vscode": {
     "languageId": "r"
    }
   },
   "outputs": [],
   "source": [
    "# Load the 'Biostrings' package. \n",
    "# 'Biostrings' provides efficient containers to handle and analyze biological sequences.\n",
    "library(\"Biostrings\")\n",
    "# Load the phangorn library: Provides tools for phylogenetic reconstruction and analysis\n",
    "library(\"phangorn\")\n",
    "# Load the ape library: Essential for reading, writing, and manipulating phylogenetic trees\n",
    "library(\"ape\")\n",
    "\n",
    "# Define un vector que contiene 4 secuencias\n",
    "sequences = c(\"ACTGGCTG\", \"ACTGCTG\", \"AGTGACT\", \"TGTGACTGA\")\n",
    "\n",
    "# Convy]ierte el vector de secuencias en un objeto DNAStringSet usando Biostrings\n",
    "biostrings_sequences = DNAStringSet(sequences)\n",
    "\n",
    "# Realiza un alineamiento múltiple sobre el objeto DNAStringSet usando 'msa' \n",
    "msa_result_sample = msa(biostrings_sequences,method = \"ClustalW\")\n",
    "\n",
    "# Observe el resultado del alineamiento\n",
    "print(msa_result_sample)\n",
    "\n",
    "# Y otro ejemplo con amino ácidos con diferentes longitudes \n",
    "# y usando la matríz de sustitución Blosum\n",
    "\n",
    "amino_sequences =  c(\"ARNDCLTQ\", \"ARN\", \"ARMDCQK\", \"RRRTDGPSW\")\n",
    "amino_sequences = AAStringSet(amino_sequences) \n",
    "\n",
    "# Realiza la alineación múltiple de las secuencias de aminoácidos.\n",
    "# El argumento 'type' se establece en \"protein\" para indicar que estamos trabajando con secuencias de proteínas.\n",
    "amino_sequences_aln = amino_sequences_aln = msa(amino_sequences, type = \"protein\",substitutionMatrix = BLOSUM62)\n",
    "print(amino_sequences_aln)\n"
   ]
  },
  {
   "cell_type": "markdown",
   "metadata": {},
   "source": [
    "A partir del alineamiento obtenemos las distancias por pares. Para obtener estas distancias debemos crear un objeto \"phyDat\". Con este objeto podemos calcular las distancias por pares, bajo los supuesto de algún modelo de evolución. En este caso utilizaremos el \"Jukes-Cantor\" que asume frecuencias de bases iguales e igual probabilidad para todas la sustituciones."
   ]
  },
  {
   "cell_type": "code",
   "execution_count": null,
   "metadata": {
    "vscode": {
     "languageId": "r"
    }
   },
   "outputs": [],
   "source": [
    "# Define un vector que containing four DNA sequences\n",
    "# Convert the multiple sequence alignment result to a phyDat object for downstream analyses in phangorn\n",
    "phyDat_msa_sample = as.phyDat(msa_result_sample)\n",
    "\n",
    "# Se asignan nombres a las secuencias\n",
    "names(phyDat_msa_sample) = c(\"Seq 1\", \"Seq 2\", \"Seq 3\", \"Seq 4\")\n",
    "\n",
    "#calculamos la distancia con el modelo JC69\n",
    "msa_sample.dist <- dist.ml(phyDat_msa_sample, model=\"JC69\")"
   ]
  },
  {
   "cell_type": "markdown",
   "metadata": {},
   "source": [
    "Ahora agrupamos las secuencias con los dos métodos que hemos descrito aquí, UPGMA y NJ, y graficamos el árbol"
   ]
  },
  {
   "cell_type": "code",
   "execution_count": null,
   "metadata": {
    "vscode": {
     "languageId": "r"
    }
   },
   "outputs": [],
   "source": [
    "# Agrupamiento de secuencias con UPGMA\n",
    "msa_sample_UPGMA <- upgma(msa_sample.dist)\n",
    "plot(msa_sample_UPGMA )\n",
    "\n",
    "#Agrupamiento con NJ\n",
    "msa_sample_NJ <- NJ(msa_sample.dist)\n",
    "plot(msa_sample_NJ)\n"
   ]
  },
  {
   "cell_type": "markdown",
   "metadata": {},
   "source": [
    "También es posible importar un árbol realizado para graficarlo desde R. Esto se hace con frecuencia, ya que si bien R tiene la fortaleza de graficar, es mas lento y menos eficiente para realizar los alinieamientos y cálculos de distancias. A continuación vamos a importar el alineamiento de las secuencias de proteína de Citocromo B que habíamos generado con clustal (archivo .phy). A partir de este archivo vamos a:\n",
    "- 1. Calcular las distancias por pares usando un modelo evolutivo (p.ej JC69)\n",
    "- 2. Aplicar los algoritmos de agrupamiento\n",
    "- 3. Graficar el árbol "
   ]
  },
  {
   "cell_type": "code",
   "execution_count": null,
   "metadata": {
    "vscode": {
     "languageId": "r"
    }
   },
   "outputs": [],
   "source": [
    "cytB <- read.aa(\"CytBProt.phy\")\n",
    "cytB_phy_dat <- as.phyDat(cytB)\n",
    "cytB_dist <- dist.ml(cytB_phy_dat)\n",
    "cytB_UPGMA <- upgma(cytB_dist)\n",
    "cytB_NJ <- NJ(cytB_dist)\n",
    "plot(cytB_UPGMA)\n",
    "plot(cytB_NJ)"
   ]
  },
  {
   "cell_type": "markdown",
   "metadata": {},
   "source": [
    "\n"
   ]
  }
 ],
 "metadata": {
  "kernelspec": {
   "display_name": "Python 3 (ipykernel)",
   "language": "python",
   "name": "python3"
  },
  "language_info": {
   "codemirror_mode": {
    "name": "ipython",
    "version": 3
   },
   "file_extension": ".py",
   "mimetype": "text/x-python",
   "name": "python",
   "nbconvert_exporter": "python",
   "pygments_lexer": "ipython3",
   "version": "3.8.1"
  },
  "widgets": {
   "application/vnd.jupyter.widget-state+json": {
    "state": {},
    "version_major": 2,
    "version_minor": 0
   }
  }
 },
 "nbformat": 4,
 "nbformat_minor": 4
}
