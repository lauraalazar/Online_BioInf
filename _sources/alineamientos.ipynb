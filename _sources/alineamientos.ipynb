{
 "cells": [
  {
   "attachments": {},
   "cell_type": "markdown",
   "metadata": {},
   "source": [
    "# Alienamientos\n",
    "\n",
    "En el centro de la biología esta la búsqueda de similitudes entre las diferentes formas de vida y la representación de estas variaciones. Los árboles filogenéticos son una representación muy útil de estas diferencias"
   ]
  },
  {
   "attachments": {},
   "cell_type": "markdown",
   "metadata": {},
   "source": [
    "<img src=\"darwin_tree.jpeg\"/>"
   ]
  },
  {
   "attachments": {},
   "cell_type": "markdown",
   "metadata": {},
   "source": [
    "La idea de una descendencia con modificiaciones de Darwin implica que las similitudes existen entre orgnaismos porque ellos comparten un ancestro común. Es decir que las similitudes se pueden utilizar para hacer inferencias filogenéticas sobre las relaciones evolutivas entre organismos. Por lo tanto, un árbol filogenético es una hipótesis sobre relaciones ancestrales. A los caracteres similares que comparten un ancestro común se les llama “caracteres homologos”. Pero no todas las similitudes son homólogas."
   ]
  },
  {
   "attachments": {},
   "cell_type": "markdown",
   "metadata": {},
   "source": [
    "<img src=\"homol_anal.jpeg\"/>"
   ]
  },
  {
   "attachments": {},
   "cell_type": "markdown",
   "metadata": {
    "vscode": {
     "languageId": "shellscript"
    }
   },
   "source": [
    "Tradicionalmente los árboles filogenéticos se construyen con caracteres fenotípicos, y estos continúan siendo importantes para muchos rasgos morfológicos, ecológicos, de comportamiento y para datos fósiles. Actualmente muchos árboles filogenéticos se construyen utilizando secuencias de nucelótidos y aminoácidos. Aquí entonces tenemos similitud entre secuencias que pueden, **pero no necesariamente** reflejan la similitud entre las especies."
   ]
  },
  {
   "attachments": {},
   "cell_type": "markdown",
   "metadata": {},
   "source": [
    "# Similitud entre secuencias\n",
    "\n",
    "Dadas tres secuencias:\n",
    "- 1. ACGTG\n",
    "- 2. ACGTC\n",
    "- 3. ACGCC\n"
   ]
  },
  {
   "cell_type": "markdown",
   "metadata": {},
   "source": [
    "<div class=\"alert alert-block alert-info\">\n",
    "<b>Ejercicio</b> \n",
    "Escriba a \"papel y lápiz\" cómo sería la hipótesis de relación ancestral entre estas secuencias. Cuantos alineamientos obtuvo?\n",
    "</div>"
   ]
  },
  {
   "attachments": {},
   "cell_type": "markdown",
   "metadata": {},
   "source": [
    "Ahora lo haremos con python. Entramos a Apolo y activamos los ambientes"
   ]
  },
  {
   "cell_type": "code",
   "execution_count": null,
   "metadata": {
    "vscode": {
     "languageId": "powershell"
    }
   },
   "outputs": [],
   "source": [
    "ssh lsalazarj@apolo.eafit.edu.co\n",
    "source activate biopython_py3.9 # recuerde que su ambiente de conda puede tener un nombre diferente\n",
    "python3.9                       # recuerde utilizar la versión de python donde instaló biopython"
   ]
  },
  {
   "cell_type": "code",
   "execution_count": null,
   "metadata": {},
   "outputs": [],
   "source": [
    "# Llamamos las librerías de bipython\n",
    "import Bio\n",
    "from Bio.Seq import Seq\n",
    "\n",
    "# Definimos las secuencias con la función Seq de biopython\n",
    "seq1=Seq(\"ACGTG\") \n",
    "seq2=Seq(\"ACGTC\")\n",
    "seq3=Seq(\"ACGCC\")"
   ]
  },
  {
   "attachments": {},
   "cell_type": "markdown",
   "metadata": {},
   "source": [
    "## Alineamiento por pares\n",
    "\n",
    "Dos secuencias, seq1 y seq2, en qué se parecen y diferencian? Como cuantificar las diferencias y similitudes?\n"
   ]
  },
  {
   "cell_type": "code",
   "execution_count": null,
   "metadata": {},
   "outputs": [],
   "source": [
    "from Bio import Align #importa la librería para alineamientos\n",
    "\n",
    "aligner = Align.PairwiseAligner() #esta función alinea por pares\n",
    "alignments1_2 = aligner.align(seq1, seq2) # LISTA de alineamientos posibles entre las dos secuencias\n",
    "for alignment in sorted(alignments1_2): # \n",
    "#    print(\"Score = %.1f:\" % alignment.score)\n",
    "    print(alignment)"
   ]
  },
  {
   "cell_type": "markdown",
   "metadata": {},
   "source": [
    "Cuantos tipos de alineamientos encontró? Cual es mejor?\n",
    "\n",
    "- Opción1 **Sustitución** \n",
    "\n",
    "|  seq1 | A  | C | G | T | G |\n",
    "| :---: | :-:|:-:|:-:|:-:|:-:| \n",
    "|       |$\\|$|$\\|$|$\\|$|$\\|$|$*$|\n",
    "| seq2  | A | C | G | T | C | \n",
    "\n",
    "- Opción2 **Indel** \n",
    "\n",
    "|  seq1 | A  | C | G | T | G | $-$ |\n",
    "| :---: | :-:|:-:|:-:|:-:|:-:|:-:|\n",
    "|       |$\\|$|$\\|$|$\\|$|$\\|$|$-$|$-$|\n",
    "| seq2  | A | C | G | T | $-$ | C | \n",
    "\n",
    "\n",
    "- Match score = 1\n",
    "- Posiciones pareadas = 4\n",
    "- Score del alineamiento = 4"
   ]
  },
  {
   "cell_type": "code",
   "execution_count": null,
   "metadata": {},
   "outputs": [],
   "source": [
    "\n",
    "for alignment in sorted(alignments1_2): \n",
    "    print(alignment)\n",
    "    print(alignment.score)  "
   ]
  },
  {
   "cell_type": "markdown",
   "metadata": {},
   "source": [
    "Pero será igual de probable tener una mutación de **sustitución** a un **indel** ?\n",
    "\n",
    "- Mismatch (no pareados): -1\n",
    "- Indel: -1\n",
    "\n",
    "- Score Opción1: 4-1 = 3\n",
    "- Score Opción2: 4-2 = 2\n",
    "\n",
    "Por lo tanto escogeríamos el alineamiento de la Opción 1"
   ]
  },
  {
   "cell_type": "code",
   "execution_count": null,
   "metadata": {},
   "outputs": [],
   "source": [
    "aligner.match_score = 1\n",
    "aligner.mismatch_score = -1\n",
    "aligner.open_gap_score = -1\n",
    "\n",
    "for alignment in sorted(alignments1_2): \n",
    "    print(alignment)\n",
    "    print(alignment.score) "
   ]
  },
  {
   "attachments": {},
   "cell_type": "markdown",
   "metadata": {},
   "source": [
    "### Alineamiento Global\n",
    "\n",
    "Supongamos que tenemos dos secuencias con diferente longitud (que es lo mas frecuente):\n",
    "- seq1=GCATGCG\n",
    "- seq2=GATTACA\n",
    "\n",
    "Cómo alinearía estas dos secuencias y donde pondría los gaps?"
   ]
  },
  {
   "cell_type": "markdown",
   "metadata": {},
   "source": [
    "<div class=\"alert alert-block alert-info\">\n",
    "<b>Ejercicio</b> \n",
    "Antes de comenzar, intente pensar a \"papel y lápiz\" en las posibles combinaciones, donde se pondrían los *mismatch* y *gaps*\n",
    "</div>"
   ]
  },
  {
   "attachments": {},
   "cell_type": "markdown",
   "metadata": {},
   "source": [
    "#### Algoritmo Needleman–Wunsch\n",
    "\n",
    "Fue uno de los primeros algoritmos usados para decidir el mejor alineamiento de una secuencia completa. Funciona asignándole un score a *cada uno de los posibles* alineamientos, y escogiendo el que tenga el mayor valor. En este algoritmo se asignan los siguiente scores:\n",
    "\n",
    "- match = 1\n",
    "- mismatch = -1\n",
    "- gap = -2"
   ]
  },
  {
   "attachments": {},
   "cell_type": "markdown",
   "metadata": {},
   "source": [
    "Para entender el algoritmo vamos a empezar con una matriz que tiene una secuencia en cada eje para calcular *todas* las posibles combinaciones, en forma de matriz (Tomado de Needleman–Wunsch algorithm - Wikipedia)\n",
    "\n",
    "<img src=\"NW1.png\"/>"
   ]
  },
  {
   "attachments": {},
   "cell_type": "markdown",
   "metadata": {},
   "source": [
    "La idea es calcular cada uno de los cuadros, lo cual corresponde a todas las posibilidades de alineamiento en cada posición, y atribuirle un valor para entender cual es la mejor solución. \n",
    "Para cualquier posición i y j, pueden pasar 3 cosas: (a) i y j están alienados; (b) i está alineado con un gap en la secuencia 2; o (c) j está alineado con un gap en la secuencia 1. El score posible mas alto en la posición H(i, j) está definido por la siguiente regla:"
   ]
  },
  {
   "cell_type": "code",
   "execution_count": null,
   "metadata": {},
   "outputs": [],
   "source": [
    "H(i,j) = Max H(i - 1, j - 1) + Sij (diagonal)\n",
    "             H(i, j - 1) + g (horizontal)\n",
    "             H(i-1, j) + g (vertical)\n",
    "\n",
    "Vamos a asumir el caso más simple en el cual la penalidad por sustitución ($S_{ij}$) y gap ($g$) es igual a -1\n"
   ]
  },
  {
   "attachments": {},
   "cell_type": "markdown",
   "metadata": {},
   "source": [
    "Los pasos del algoritmo son los siguientes\n",
    "- 1. Defina H(0,0) = 0 y dele a todos los campos el producto de la posición por el valor del gap. \n",
    "\n",
    "<img src=\"NW2.png\"/>\n",
    "\n",
    "- 2. Llene los valores de H matrix usando la regla y empezando desde H(1,1). \n",
    "\n",
    "<img src=\"NW3.png\"/>\n",
    "\n",
    "Para calcular el valor \"x\" de H(1,1), seleccione el máximo de tres opciones:\n",
    " - i. Si tomamos un paso de la diagonaldonde el valor es 0, los dos nucleótidos (G) estarían alineados. El valor sería 0+1 = 1\n",
    " - ii. Si tomamos un paso horizontal, vendríamos desde H(1,0) y se tomaría como un *indel* por lo que el valor es -1 + (-1) = -2\n",
    " - iii.  Si tomamos un paso vertical, vendríamos desde H(0,1) donde el valor es -1\n",
    " - iv. Escoja el mayor de estos valores y dibuje una flecha para señalar la ruta. \n",
    "    \n",
    "<img src=\"NW4.png\"/>\n",
    "\n",
    "Continuamos hacia H(1,2) y H(2,1) donde la diagonal para \"X\" y \"Y\" es un mismatch::\n",
    "\n",
    "- i. Vertical de X : (−2)+(−1) = (−3) \n",
    "- ii. Horizontal de X : (+1)+(−1) = (0)\n",
    "- iii. Diagonal de X : (−1)+(−1) = (−2)\n",
    "\n",
    "- iv. Vertical de Y : (1)+(−1) = (0) \n",
    "- v. Horizontal de Y : (−2)+(−1) = (−3)\n",
    "- vi. Diagonal de Y : (−1)+(−1) = (−2)\n",
    "\n",
    "\n",
    "<img src=\"NW5.png\"/> <img src=\"NW6.png\"/>\n",
    "\n",
    "- 3. Llene sucesivamente los valores del matriz\n",
    "\n",
    "<img src=\"Needleman-Wunsch_pairwise_sequence_alignment.png\"/>"
   ]
  },
  {
   "attachments": {},
   "cell_type": "markdown",
   "metadata": {},
   "source": [
    "Note que en algunos campos los pasos de la diagonal, horizontal o vertical producen el mismo score mas alto. En estos casos, hay mas de una posibilidad de alineamientos óptimos y se deben tener en cuenta estas rutas.\n",
    "- 4. Finalmente, reconstruimos el alineamiento usando la ruta inversa en la matriz, comenzamos en la esquina inferior derecha. Una flecha en diagonal significa un match entre secuencias. Una flecha hacia arriba o a la derecha significa introducir un gap horizontal o vertical, respectivamente."
   ]
  },
  {
   "attachments": {},
   "cell_type": "markdown",
   "metadata": {},
   "source": [
    "<div class=\"alert alert-block alert-info\">\n",
    "<b>Ejercicio</b> \n",
    "Chequee este mismo alineamiento en bipython. Defina las dos secuencias, los gaps y alinee las secuencias\n",
    "</div>"
   ]
  },
  {
   "cell_type": "code",
   "execution_count": null,
   "metadata": {},
   "outputs": [],
   "source": [
    "from Bio import Align\n",
    "from Bio.Seq import Seq\n",
    "\n",
    "# Defina las secuencias\n",
    "seq1 = Seq(\"GATTACA\")\n",
    "seq2 = Seq(\"GCATGCG\")\n",
    "\n",
    "# Defina el tipo de alineamiento (aquí \"pairwise\")\n",
    "aligner = Align.PairwiseAligner()\n",
    "\n",
    "# Defina las penalidades \n",
    "aligner.match_score = 1\n",
    "aligner.mismatch_score = -1\n",
    "aligner.open_gap_score = -1  # Gap opening penalty\n",
    "aligner.extend_gap_score = -1  # Gap extension penalty\n",
    "\n",
    "# Realice el alineamiento con las dos secuencias\n",
    "alignments = aligner.align(seq1, seq2)\n",
    "\n",
    "# Revise los alineamientos (cuantos?)\n",
    "for alignment in alignments:\n",
    "    print(alignment)\n",
    "    print(alignment.score)\n"
   ]
  },
  {
   "attachments": {},
   "cell_type": "markdown",
   "metadata": {},
   "source": [
    "### Alineamiento Local: Smith-Waterman\n",
    "\n",
    "Con frecuencia las secuencias contienen diferentes longitudes, pero dominios que son conservados porque son importantes para ciertas funciones. Los alineamientos locales sirven para identificar sub-regiones similares. Smith & Waterman desarrollaron un algoritmo dinámico local que se parece al de  Needleman-Wunsch, excepto que se dibuja una flecha solo si el valor es positivo. Si el máximo posible es negativo, se le asigna un 0 y no se dibuja ninguna"
   ]
  },
  {
   "attachments": {},
   "cell_type": "markdown",
   "metadata": {},
   "source": [
    "Ejemplo:\n",
    "\n",
    "- seq1 : ACC\n",
    "- seq2: AAACCGT\n",
    "\n",
    "<u> Scores</u> \n",
    "- gap=-2\n",
    "- mismatch=-1\n",
    "- match=1"
   ]
  },
  {
   "attachments": {},
   "cell_type": "markdown",
   "metadata": {},
   "source": [
    "<img src=\"matrix1_SW.png\"/>"
   ]
  },
  {
   "attachments": {},
   "cell_type": "markdown",
   "metadata": {},
   "source": [
    "<img src=\"matrix2_SW.png\" />"
   ]
  },
  {
   "attachments": {},
   "cell_type": "markdown",
   "metadata": {},
   "source": [
    "El procedimiento inverso para alineaientos locales comienza con el score mas alto y sigue la ruta en reversa hasta el campo que contenga un  0 y para. La celda con el H mas alto no tiene que estar en la esquina inferior derech[porque aquí se busca el sub-alineamiento más óptimo, el cual puede estar en el medio"
   ]
  },
  {
   "attachments": {},
   "cell_type": "markdown",
   "metadata": {},
   "source": [
    "<img src=\"matrix3_SW.png\" />"
   ]
  },
  {
   "attachments": {},
   "cell_type": "markdown",
   "metadata": {},
   "source": [
    "### Matrices de sustitución\n",
    "\n",
    "Desde un punto de vista fisico-químico, no todas las sustituciones son igualmente probables. En el caso de los nucleótidos, las transiciones (A-G, T-C) son mas frecuentes que las transversiones (A↔C, A↔T, C↔G, and G↔T).\n",
    "\n",
    "\n",
    "Ejemplo de Modelo de sustitución K80 de Kimura \n",
    "<img src=\"All_transitions_and_transversions.png\" width=500 height=500 />"
   ]
  },
  {
   "attachments": {},
   "cell_type": "markdown",
   "metadata": {},
   "source": [
    "En el caso de los amino ácidos, existen sesgos al nivel de mutacions o de selección natural que hacen algunas sustitutciones mas probable que otras. Primero, algunos amino ácidos tienen mas probabilidad de mutar a otros porque sus codone son mas similares en código genético. Segundo. algunas sutituciones se fijan mejor durante la evolución porque los amino ácidos comparten propiedades fisico-químicas similares. Estas diferencias tratan de reflejarse en las matrices de sustitutción"
   ]
  },
  {
   "attachments": {},
   "cell_type": "markdown",
   "metadata": {},
   "source": [
    "Ejemplo de Matriz [Blosum62](https://es.wikipedia.org/wiki/BLOSUM)\n",
    "\n",
    "<img src=\"Blosum62-dayhoff-ordering.png\" width=400 height=400 />"
   ]
  },
  {
   "attachments": {},
   "cell_type": "markdown",
   "metadata": {},
   "source": [
    "### Alineamientos múltiples\n",
    "\n",
    "Con frecuencia estamos interesados en comparar mas de dos secuencias. Los alineamiento múltiples contienen mas información sobre sitios conservados que pueden ser mas fácil de identificar. Al mismo tiempo son computacionalmente mucho mas complejos y el tiempo computación incrementa exponencialmente. La aproximación mas usada es alinear fragmentos por similitud, y progresivamente construir alineamientos locales por pares, tomando primero las mas similares, formando \"clusters jerárquicos\"."
   ]
  },
  {
   "attachments": {},
   "cell_type": "markdown",
   "metadata": {},
   "source": [
    "Vamos a tomar las secuencias de proteínas descargadas previamente de NCBI y a alinearlas utilizando uno de los programas, entre (muchos)[https://www.ebi.ac.uk/Tools/msa/] de alineamiento: (ClustalW)[https://www.ebi.ac.uk/Tools/msa/clustalo/]. \n",
    "\n",
    "Una vez copiados estos archivos en el directorio de Apolo, entramos a nuestra cuenta y creamos un ambiente para instalar clustal "
   ]
  },
  {
   "cell_type": "code",
   "execution_count": null,
   "metadata": {
    "vscode": {
     "languageId": "shellscript"
    }
   },
   "outputs": [],
   "source": [
    "ssh lsalazarj@apolo.eafit.edu.co\n",
    "module load python/3.10_miniconda-23.5.2 \n",
    "conda create -n filogenia\n",
    "conda activate filogenia\n",
    "conda install -c bioconda clustalw\n",
    "conda install -c bioconda iqtree"
   ]
  },
  {
   "attachments": {},
   "cell_type": "markdown",
   "metadata": {},
   "source": [
    "Este paso de instalación solo se realiza una vez por programa. Una vez instalado, se activa"
   ]
  },
  {
   "cell_type": "code",
   "execution_count": null,
   "metadata": {
    "vscode": {
     "languageId": "shellscript"
    }
   },
   "outputs": [],
   "source": [
    "source activate filogenia"
   ]
  },
  {
   "attachments": {},
   "cell_type": "markdown",
   "metadata": {},
   "source": [
    "Ahora vamos a alinear las secuencias de Citocromo B. Los (Citocromos)[https://es.wikipedia.org/wiki/Citocromo] son proteínas de membrana que contienen grupos hemo, los cuales llevan a cabo las reacciones de reducción/oxidación por medio del transporte de electrones. En Eucariotas los citrocromos se encuentran en la membrana interna de la mitocondria. El nivel de consrvación de sus secuencias los hace marcadores idóneos para el análisis filogenético entre especies. \n",
    "\n",
    "Este archivo contiene la secuencia de amino acidos de diferentes proteínas de citocromo B del genoma de la mitocondria de 16 especies de vertebrados en formato \"fasta\". Descargue las secuencias (vía ``wget`` o ``curl``, para su uso revise el capítulo \"intro linux\") en Apolo localizadas en: \n",
    "https://raw.githubusercontent.com/lauraalazar/BiologiaComputacional/main/CytBProt.txt\n",
    "https://raw.githubusercontent.com/lauraalazar/BiologiaComputacional/main/CytBDNA.txt\n"
   ]
  },
  {
   "cell_type": "markdown",
   "metadata": {},
   "source": [
    "El comando para alinear con clustalw es el siguiente (recordemos que en Apolo este comando hay que escribirlo dentro de un script slurm.sh):"
   ]
  },
  {
   "cell_type": "code",
   "execution_count": null,
   "metadata": {
    "vscode": {
     "languageId": "shellscript"
    }
   },
   "outputs": [],
   "source": [
    "clustalw2 -infile=CytBProt.txt -type=protein -output=phylip"
   ]
  },
  {
   "cell_type": "markdown",
   "metadata": {},
   "source": [
    "<div class=\"alert alert-block alert-info\">\n",
    "<b>Ejercicio</b> \n",
    "Escriba este comando desde un script \"slurm\" y ejecútelo\n",
    "</div>"
   ]
  },
  {
   "attachments": {},
   "cell_type": "markdown",
   "metadata": {},
   "source": [
    "Una vez termina de ejecutar el trabajo, se produce 1 archivo *.phy* que contiene el alineamiento, y uno .dnd que contiene un *árbol*. Este árbol está en formato (Newick)[https://en.wikipedia.org/wiki/Newick_format], inspecciónelo (usando ``less`` o ``cat``). "
   ]
  },
  {
   "cell_type": "markdown",
   "metadata": {},
   "source": [
    "Ahora vamos a utilizar (iqtree)[http://www.iqtree.org/doc/Quickstart] para visualizar el árbol (recordemos que en Apolo este comando hay que escribirlo dentro de un script slurm.sh):"
   ]
  },
  {
   "cell_type": "code",
   "execution_count": null,
   "metadata": {
    "vscode": {
     "languageId": "shellscript"
    }
   },
   "outputs": [],
   "source": [
    "iqtree -s CytBProt.phy"
   ]
  },
  {
   "cell_type": "markdown",
   "metadata": {},
   "source": [
    "<div class=\"alert alert-block alert-info\">\n",
    "<b>Ejercicio</b> \n",
    "Escriba este comando desde un script \"slurm\" y ejecútelo\n",
    "</div>"
   ]
  },
  {
   "cell_type": "markdown",
   "metadata": {},
   "source": [
    "<div class=\"alert alert-block alert-info\">\n",
    "<b>Ejercicio</b> \n",
    "Repita el mismo proceso de alineamiento y generación de árbol con el archivo de nucleótidos de Citocromo B. Ve alguna diferencia con respecto a las proteínas, por ejemplo en la topología del árbol? A qué cree que se deben las diferencias?\n",
    "</div>"
   ]
  }
 ],
 "metadata": {
  "kernelspec": {
   "display_name": "Python 3 (ipykernel)",
   "language": "python",
   "name": "python3"
  },
  "language_info": {
   "codemirror_mode": {
    "name": "ipython",
    "version": 3
   },
   "file_extension": ".py",
   "mimetype": "text/x-python",
   "name": "python",
   "nbconvert_exporter": "python",
   "pygments_lexer": "ipython3",
   "version": "3.8.1"
  },
  "widgets": {
   "application/vnd.jupyter.widget-state+json": {
    "state": {},
    "version_major": 2,
    "version_minor": 0
   }
  }
 },
 "nbformat": 4,
 "nbformat_minor": 4
}
