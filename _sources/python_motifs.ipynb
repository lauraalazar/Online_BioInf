{
 "cells": [
  {
   "cell_type": "markdown",
   "metadata": {},
   "source": [
    "# Ejercicio de manejo de Secuencias con python\n",
    "\n",
    "Una vez instalados python y biopython, vamos a utilizarlos para manejar las secuencias utilizando el el archivo de covid19 descargado previamente. Para comenzar, vamos s utilizar algunos de los ejemplos de la introducción a linux para entender cómo hacerlos con python. Cada vez que entramos a la terminal debemos activa el entorno de conda que creamos"
   ]
  },
  {
   "cell_type": "code",
   "execution_count": null,
   "metadata": {
    "vscode": {
     "languageId": "shellscript"
    }
   },
   "outputs": [],
   "source": [
    "source activate python3.9\n",
    "python"
   ]
  },
  {
   "cell_type": "markdown",
   "metadata": {},
   "source": [
    "En python se pueden buscar patrones de texto utilizando ``re.search()``, que es una función (note el parentésis) que busca la primera coincidencia con un patrón especificado. Haremos uso de esta función para busucar patrones de secuencias llamados *motifs*. Estos son..."
   ]
  },
  {
   "cell_type": "markdown",
   "metadata": {},
   "source": [
    "En la sesión anterior definimos el codón de inicio y un loop para buscarlo (ver *Manejo de secuencias con python*). Podemos simplificar esta búsqueda utilizando la función ``re.search()``"
   ]
  },
  {
   "cell_type": "code",
   "execution_count": null,
   "metadata": {},
   "outputs": [],
   "source": [
    "# llamamos las librerías\n",
    "import re\n",
    "import sys\n",
    "import Bio\n",
    "from Bio.SeqRecord import SeqRecord\n",
    "from Bio import SeqIO\n",
    "\n",
    "# define una variable para abrir el archivo fasta como input.\n",
    "# escribo la ruta completa para no tener problemas localizando el input \n",
    "dna_file = SeqIO.read('/Users/laura/docencia/eia/bioinfo/clase_python/Sars_cov.dna.fa', \"fasta\")\n",
    "\n",
    "# define una variable para la secuencia completa del covid\n",
    "covid19_seq = dna_file.seq\n",
    "\n",
    "# define la secuencia a buscar\n",
    "start_codon = 'AUG' \n",
    "\n",
    "# Búsqueda en DNA\n",
    "covid19_seq.find(start_codon)\n",
    "\n",
    "# Búsqueda en el transcrito\n",
    "covid19_mRNA=covid19_seq.transcribe()\n",
    "start_pos=covid19_mRNA.find(start_codon)\n",
    "\n",
    "for i in range(start_pos,len(covid19_mRNA), 3):\n",
    "#    print(i)\n",
    "    codon = covid19_mRNA[i:i+3]    \n",
    "    if codon == start_codon:\n",
    "        print(codon)"
   ]
  },
  {
   "cell_type": "markdown",
   "metadata": {},
   "source": [
    "Ya que un genoma es una secuencia de texto, se puede manejar de forma similar. Para facilitar el código utilizamos la librería de Biopython que ya tiene implementadas funciones específicas para secuencias. \n",
    "\n",
    "Una vez dentro de python (y cada vez que ingresamos) debemos volver a llamar las librería y definir las variables"
   ]
  },
  {
   "cell_type": "code",
   "execution_count": null,
   "metadata": {},
   "outputs": [],
   "source": [
    "import Bio\n",
    "from Bio.SeqRecord import SeqRecord\n",
    "from Bio import SeqIO\n",
    "\n",
    "# define una variable para abrir el archivo fasta como input\n",
    "dna_file = SeqIO.read('Sars_cov.dna.fa', \"fasta\")\n",
    "\n",
    "# define una variable para la secuencia completa del covid\n",
    "covid19_seq = dna_file.seq\n",
    "\n",
    "# cuenta la longitud del genoma de covid\n",
    "print(f'El genoma del virus que causa Covid-19 (SARS-CoV-2) consiste de {len(covid19_seq)} bases.')"
   ]
  },
  {
   "cell_type": "markdown",
   "metadata": {},
   "source": [
    "El comando ``print`` imprime en la pantalla el texto literal (entre comillas '') y la función ``len()`` con el parámetro ``covid19_seq`` que definimos anteriormente. \n",
    "La ``f`` dentro de print es un prefijo que formatea la cadena literal (para más [información](https://docs.python.org/es/3/tutorial/inputoutput.html])).\n",
    "\n",
    "En este caso nos da la longitud del genoma de covid que es de 29903 (el genoma humano está en la escala de miles de millones ó GB).\n",
    "\n",
    "La variable ``covid19_seq`` es una lista ordenada de bases (string), es decir que la letra de cada posición se puede saber por su **índice**"
   ]
  },
  {
   "cell_type": "code",
   "execution_count": null,
   "metadata": {},
   "outputs": [],
   "source": [
    "# La primera posición empieza con el índice 0\n",
    "covid19_seq[0]\n",
    "# Segunda posición\n",
    "covid19_seq[1]\n",
    "# Las primeras 50 posiciones\n",
    "covid19_seq[0:50]\n",
    "# ó\n",
    "covid19_seq[:50]\n",
    "# Y de atrás para delante\n",
    "covid19_seq[-50]"
   ]
  },
  {
   "cell_type": "markdown",
   "metadata": {},
   "source": [
    "Asímismo, los condicionales y bucles funcionan similar que en la terminal. Por ejemplo"
   ]
  },
  {
   "cell_type": "code",
   "execution_count": null,
   "metadata": {},
   "outputs": [],
   "source": [
    "\n",
    "## Condicionales lógicos\n",
    "5 == 5\n",
    "5 == 4\n",
    "4 < 5\n",
    "\n",
    "# El mismo ejemplo de la terminal de imprimir los número de 1-10 con for loop\n",
    "for i in range(1,10):\n",
    "    print(i)\n",
    "\n",
    "# El mismo ejemplo de la terminal de imprimir los número de 1-10 con while loop\n",
    "i = 1 \n",
    "while i<10:\n",
    "    print(i)\n",
    "    i += 1"
   ]
  },
  {
   "cell_type": "markdown",
   "metadata": {},
   "source": [
    "Ahora vamos a utilizar los bucles y condicionales para buscar el codón de inicio de transcripción para el genoma de covid19"
   ]
  },
  {
   "cell_type": "code",
   "execution_count": null,
   "metadata": {},
   "outputs": [],
   "source": [
    "# Define el codón de inicio\n",
    "start_codon = 'AUG'\n",
    "\n",
    "# Escanea la secuencia hasta encontrar el patrón\n",
    "for i in range(len(covid19_seq)):\n",
    "    if covid19_seq[i:i+3] == start_codon:\n",
    "        print('The start codon starts at index', i)\n",
    "        break\n",
    "else:\n",
    "    print('Codon not found in sequence.')"
   ]
  },
  {
   "cell_type": "markdown",
   "metadata": {},
   "source": [
    "Por qué este script no encontró un codón de inicio? Porque el codón está en términos del RNA mensajero y el input que le dimos fue el del genoma. Para transcribirlo, vamos a definir otra variable"
   ]
  },
  {
   "cell_type": "code",
   "execution_count": null,
   "metadata": {},
   "outputs": [],
   "source": [
    "covid_mRNA = covid19_seq.transcribe()"
   ]
  },
  {
   "cell_type": "markdown",
   "metadata": {},
   "source": [
    "<div class=\"alert alert-block alert-info\">\n",
    "<b>Ejercicio</b> Vuelva a correr el script anterior para el RNA mensajero y verifique si la posición de indicada si contiene el códon de inicio </div>"
   ]
  },
  {
   "cell_type": "markdown",
   "metadata": {},
   "source": [
    "## Escribir secuencias en un archivo  \n",
    "Con frecuencia estamos interesados en un subconjunto de los genes o proteínas para realizar un análisis a profundidad de ellos. En este caso vamos a seleccionar las glicoproteínas que son aquellas que codifican la espícula. Esta espícula (\"spike\") es la encargada de mediar la entrada del virus hacia el hospedero y tiene una tasa de mutación mas alta que los otros genes, lo que presumiblemente dió origen a cepas mas virulentas (https://en.wikipedia.org/wiki/Coronavirus_spike_protein). Para esto vamos a llamar al archivo de proteínas dentro de una variable. Recordemos que el archivo se puede llamar sin añadir la ruta completa si abrimos python dentro de la carpeta donde se encuentra el archivo. De lo contrario debemos darle la ruta"
   ]
  },
  {
   "cell_type": "code",
   "execution_count": null,
   "metadata": {},
   "outputs": [],
   "source": [
    "from Bio.Seq import Seq\n",
    "from Bio.SeqRecord import SeqRecord\n",
    "\n",
    "prot_file = \"/Users/laura/docencia/eia/bioinfo/clase_python/Sars_cov.prot.fa\"\n",
    "\n",
    "for record in SeqIO.parse(prot_file, \"fasta\"):\n",
    "    if (record.description.split()[9] == \"glycoprotein\"):\n",
    "        print(record)"
   ]
  },
  {
   "cell_type": "markdown",
   "metadata": {},
   "source": [
    "Cuantas secuencias contiene el archivo? Vamos a imprimir su id, su tamaño y su descripción:"
   ]
  },
  {
   "cell_type": "code",
   "execution_count": null,
   "metadata": {},
   "outputs": [],
   "source": [
    "for record in SeqIO.parse(prot_file, \"fasta\"):\n",
    "    print(record.id,len(record.seq),record.description)"
   ]
  },
  {
   "cell_type": "markdown",
   "metadata": {},
   "source": [
    "La descripción tiene mucha información importante pero esta no es muy clara, entonces vamos a extraer el fragmento que contiene la función. Para esto dividimos la descripción en items, utilizando la función ``split.()``. Esta función separa una lista en items. Por ejemplo, yo puedo descomponer mi nombre en las letras que lo componen:"
   ]
  },
  {
   "cell_type": "code",
   "execution_count": null,
   "metadata": {},
   "outputs": [],
   "source": [
    "for l in \"laura\":\n",
    "    print(l.split())"
   ]
  },
  {
   "cell_type": "markdown",
   "metadata": {},
   "source": [
    "Asímismo, se puede separar la descripción en las palabras que la componen. "
   ]
  },
  {
   "cell_type": "code",
   "execution_count": null,
   "metadata": {},
   "outputs": [],
   "source": [
    "for record in SeqIO.parse(prot_file, \"fasta\"):\n",
    "    print(record.description.split())"
   ]
  },
  {
   "cell_type": "markdown",
   "metadata": {},
   "source": [
    "y luego le damos el número  del item de interés ``[]`` (es el item 9 pero python comienza a contar desde 0, entonces es el 8) "
   ]
  },
  {
   "cell_type": "code",
   "execution_count": null,
   "metadata": {},
   "outputs": [],
   "source": [
    "from Bio.Seq import Seq\n",
    "from Bio.SeqRecord import SeqRecord\n",
    "\n",
    "for record in SeqIO.parse(prot_file, \"fasta\"):\n",
    "    if (record.description.split()[9] == \"glycoprotein\"):\n",
    "        print(record)"
   ]
  },
  {
   "cell_type": "markdown",
   "metadata": {},
   "source": [
    "Hasta aquí hemos seleccionado las secuencias que contienen el término \"glycoprotein\". Para escribirlas en un archivo en un formato adecuado de secuencias vamos a utilizar la función de biopython  ``Bio.SeqIO.write()`` y a cambiar un poco el estilo. "
   ]
  },
  {
   "cell_type": "code",
   "execution_count": null,
   "metadata": {},
   "outputs": [],
   "source": [
    "glycoproteins = (record for record in SeqIO.parse(prot_file, \"fasta\") if (record.description.split()[9] == \"glycoprotein\"))\n",
    "SeqIO.write(glycoproteins, \"sars_covid19_glycoproteins.fa\", \"fasta\")"
   ]
  },
  {
   "cell_type": "markdown",
   "metadata": {},
   "source": [
    "Donde eperas que esté el archivo? Chequéalo mirando el directorio actual (\"get current working directory\"). Verifica que si se haya generado con el nombre y formatos correctos, y la información que deseamos que contenga. "
   ]
  },
  {
   "cell_type": "code",
   "execution_count": null,
   "metadata": {},
   "outputs": [],
   "source": [
    "import os\n",
    "\n",
    "os.getcwd()\n",
    "os.listdir()"
   ]
  },
  {
   "cell_type": "markdown",
   "metadata": {},
   "source": [
    "Por último, vamos a escribir los comando que utilizamos en un script de python (con extensión \".py\") para dejar registro de lo que hicimos y pueda ser repetible"
   ]
  },
  {
   "cell_type": "code",
   "execution_count": null,
   "metadata": {},
   "outputs": [],
   "source": [
    "#!/usr/local/bin/\n",
    "\n",
    "# Script por Laura Salazar Jaramillo\n",
    "# Genera un subconjunto de glicoproteinas de SARS-covid 19\n",
    "\n",
    "# Importamos las librerías necesarias\n",
    "import os\n",
    "import sys\n",
    "\n",
    "import Bio\n",
    "from Bio import SeqIO\n",
    "from Bio.Seq import Seq\n",
    "\n",
    "# Archivos de entrada (inputs)\n",
    "dna_file = \"/home/lsalazarj/bicomp2024/Sars_cov.dna.fa\"\n",
    "prot_file = \"Sars_cov.prot.fa\"\n",
    "\n",
    "\n",
    "# Listamos el tamano del genoma\n",
    "for record in SeqIO.parse(dna_file, \"fasta\"):\n",
    "    print(\"La longitud en nc del genoma es:\",len(record.seq))\n",
    "\n",
    "# Listamos los id y longitudes de las proteínas\n",
    "for record in SeqIO.parse(prot_file, \"fasta\"):\n",
    "    print(record.id,len(record.seq),record.description.split()[9])\n",
    "\n",
    "# Seleccionamos las glicoproteínas y las guardamos en un archivo aparte\n",
    "glycoproteins = (record for record in SeqIO.parse(prot_file, \"fasta\") if (record.description.split()[9] == \"glycoprotein\"))\n",
    "SeqIO.write(glycoproteins, \"sars_covid19_glycoproteins.fa\", \"fasta\")"
   ]
  },
  {
   "cell_type": "markdown",
   "metadata": {},
   "source": [
    "Este script se puede ejecutar en la terminal escribiendo los comandos"
   ]
  },
  {
   "cell_type": "code",
   "execution_count": null,
   "metadata": {
    "vscode": {
     "languageId": "shellscript"
    }
   },
   "outputs": [],
   "source": [
    "python glycoproteins.py > glycoproteins.out"
   ]
  },
  {
   "cell_type": "markdown",
   "metadata": {},
   "source": [
    "Alternativamente se pueden cambiar los permisos del archivo (chmod +x glycoproteins.py) y ejecutarlo"
   ]
  },
  {
   "cell_type": "code",
   "execution_count": null,
   "metadata": {
    "vscode": {
     "languageId": "shellscript"
    }
   },
   "outputs": [],
   "source": [
    "./glycoproteins.py"
   ]
  }
 ],
 "metadata": {
  "language_info": {
   "name": "python"
  }
 },
 "nbformat": 4,
 "nbformat_minor": 2
}
