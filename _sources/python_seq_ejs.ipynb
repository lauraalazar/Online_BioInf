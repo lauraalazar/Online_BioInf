{
 "cells": [
  {
   "cell_type": "markdown",
   "metadata": {},
   "source": [
    "# Ejercicio con secuencias\n",
    "\n",
    "Vamos a utilizar las secuencias de Citocromo B descargadas previamente para repasar el manejo de secuencias utilizando python. \n",
    "1. Cree una carpeta que se llame citB_seqs\n",
    "2. Entre a la carpeta\n",
    "3. Copie desde allí las secuencias de Citocromo (o descárguelas nuevamente)\n",
    "4. Active los entornos de conda\n",
    "5. Comience Python\n",
    "6. Llame las librerías\n",
    "7. Defina los archivos input\n",
    "8. Realice un loop sobre las secuencias de DNA para imprimir los nombres de los ID y los tamaños del gen: qué tanto difieren?\n",
    "9. Repita los putnos 7 y 8 pero con el archivo de proteínas: qué tanto difieren éstas?\n",
    "10. Ahora viene el reto de la clase: Utilice las secuencias de DNA para traducir las secuencias y guarde este archvivo. \n",
    "11. Compare las secuencias obtenidas con las del archivo de las proteínas: son iguales?\n",
    "12. Utilice la sección 3.8 del tutorial de [Biopython](https://biopython.org/DIST/docs/tutorial/Tutorial.html) y repita el punto 10"
   ]
  }
 ],
 "metadata": {
  "language_info": {
   "name": "python"
  }
 },
 "nbformat": 4,
 "nbformat_minor": 2
}
