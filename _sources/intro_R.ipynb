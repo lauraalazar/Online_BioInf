{
 "cells": [
  {
   "cell_type": "markdown",
   "metadata": {},
   "source": [
    "# Introducción a R\n",
    "\n",
    "El lenguaje R comparte muchos rasgos con Python, incluyendo la caracetrística de ser amigable con los usuarios y estar actualizado constantemente. Sin embargo R se utiliza regularmente para análisis estadísticos y figuras. \n",
    "\n",
    "Para utilizar este programa debemos instalarlo de acuerdo al sistema operativo que utilizamos  https://rstudio-education.github.io/hopr/starting.html."
   ]
  },
  {
   "cell_type": "markdown",
   "metadata": {},
   "source": [
    "## El programa más simple y cómo ejecutarlo\n",
    "\n",
    "R, como Python, es un lenguaje que interpreta un archivo de texto (o múltiples) por medio de comandoes que le permiten interactuar con la CPU y RAM a través del sistema operativo. Desde la terminal el programa se invoca escribiendo ``R`` y sabemos que estamos ``dentro'' de R porque la línea está precedida por ``>``. Dentro de R "
   ]
  },
  {
   "cell_type": "code",
   "execution_count": null,
   "metadata": {
    "vscode": {
     "languageId": "shellscript"
    }
   },
   "outputs": [],
   "source": [
    "R\n",
    "R version 4.2.3 (2023-03-15) -- \"Shortstop Beagle\"\n",
    "Copyright (C) 2023 The R Foundation for Statistical Computing\n",
    "Platform: x86_64-apple-darwin17.0 (64-bit)\n",
    "\n",
    "R is free software and comes with ABSOLUTELY NO WARRANTY.\n",
    "You are welcome to redistribute it under certain conditions.\n",
    "Type 'license()' or 'licence()' for distribution details.\n",
    "\n",
    "  Natural language support but running in an English locale\n",
    "\n",
    "R is a collaborative project with many contributors.\n",
    "Type 'contributors()' for more information and\n",
    "'citation()' on how to cite R or R packages in publications.\n",
    "\n",
    "Type 'demo()' for some demos, 'help()' for on-line help, or\n",
    "'help.start()' for an HTML browser interface to help.\n",
    "Type 'q()' to quit R.\n",
    "\n",
    "> "
   ]
  },
  {
   "cell_type": "markdown",
   "metadata": {},
   "source": [
    "Una vez dentro de R podemos cambiar el directorio de trabajo "
   ]
  },
  {
   "cell_type": "code",
   "execution_count": null,
   "metadata": {
    "vscode": {
     "languageId": "r"
    }
   },
   "outputs": [],
   "source": [
    "getwd()\n",
    "setwd(\"/Users/laura/docencia/eia/bioinfo/clase_R\")"
   ]
  },
  {
   "cell_type": "code",
   "execution_count": null,
   "metadata": {
    "vscode": {
     "languageId": "r"
    }
   },
   "outputs": [],
   "source": [
    "print(\"Hello World\")\n",
    "\n",
    "# salimos de R con \"quit\"\n",
    "q()"
   ]
  },
  {
   "cell_type": "markdown",
   "metadata": {},
   "source": [
    "Así como en python, en R también podemos escribir este comando dentro de un script y ejecutarlo"
   ]
  },
  {
   "cell_type": "code",
   "execution_count": null,
   "metadata": {
    "vscode": {
     "languageId": "shellscript"
    }
   },
   "outputs": [],
   "source": [
    "nano HelloWorld.R "
   ]
  },
  {
   "cell_type": "markdown",
   "metadata": {},
   "source": [
    "Y ahora dentro de ``nano`` o ``vi`` escribimos"
   ]
  },
  {
   "cell_type": "code",
   "execution_count": null,
   "metadata": {
    "vscode": {
     "languageId": "shellscript"
    }
   },
   "outputs": [],
   "source": [
    "#!/usr/bin/env Rscript\n",
    "\n",
    "print(\"Hello World!\")"
   ]
  },
  {
   "cell_type": "markdown",
   "metadata": {},
   "source": [
    "Modificamos los permisos para hacer el script ejecutable y lo corremos desde la terminal"
   ]
  },
  {
   "cell_type": "code",
   "execution_count": null,
   "metadata": {
    "vscode": {
     "languageId": "shellscript"
    }
   },
   "outputs": [],
   "source": [
    "chmod +x Rscript.R\n",
    "./Rscript"
   ]
  },
  {
   "cell_type": "markdown",
   "metadata": {},
   "source": [
    "otra forma de correrlo es generando un archivo de output con el siguiente comando desde la terminal"
   ]
  },
  {
   "cell_type": "code",
   "execution_count": null,
   "metadata": {
    "vscode": {
     "languageId": "shellscript"
    }
   },
   "outputs": [],
   "source": [
    "R CMD BATCH HelloWorld.R\n",
    "less HelloWorld.Rout "
   ]
  },
  {
   "cell_type": "markdown",
   "metadata": {},
   "source": [
    "De manera más simple y amigable, podemos utilizar Rstudio o VisualStudio para escribir el script y correr los comandos desde allí mismo"
   ]
  },
  {
   "cell_type": "markdown",
   "metadata": {},
   "source": [
    "## Comando y conceptos básicos\n",
    "\n",
    "R funciona como calculadora y como interpretador de texto"
   ]
  },
  {
   "cell_type": "code",
   "execution_count": null,
   "metadata": {
    "vscode": {
     "languageId": "r"
    }
   },
   "outputs": [],
   "source": [
    "# puedo asignar una variable con \"=\" o \"<-\"\n",
    "x <- 2*3\n",
    "x\n",
    "x = 2*3\n",
    "x \n",
    "\n",
    "# o variables con texto\n",
    "minombre <-\"laura\"\n",
    "\n",
    "#y concatenar el texto\n",
    "cat(\"mi nombre es\",minombre)"
   ]
  },
  {
   "cell_type": "markdown",
   "metadata": {},
   "source": [
    "### Vectores\n",
    "\n",
    "Un vector consiste en varios elementos del mismo tipo (ej números o caracteres alfabéticos), mientras que las listas pueden ser mixtas. Las variables que utilizaremos mas frecuentemente son vectores y dataframes. \n",
    "Para definir un vector se utiliza c() (combine). Por ejemplo un vector con los elementos 8, 6, 9, 10, y 5, escribimos:"
   ]
  },
  {
   "cell_type": "code",
   "execution_count": null,
   "metadata": {
    "vscode": {
     "languageId": "r"
    }
   },
   "outputs": [],
   "source": [
    "mivector <- c(8, 6, 9, 10, 5) # note las comas entre números!\n",
    "mivector\n",
    "mivector[1] # primer elemento\n",
    "mivector[4] # cuarto elemento\n",
    "mean(mivector) #aplica la media de los elementos\n",
    "mivector*10 #multiplica todos los elementos por la constante\n",
    "mivector2 <- c(5, 10, 15, 20, 25, 30)\n",
    "mivector+mivector2"
   ]
  },
  {
   "cell_type": "markdown",
   "metadata": {},
   "source": [
    "Asimismo se puede definir vectores con caracteres de texto"
   ]
  },
  {
   "cell_type": "code",
   "execution_count": null,
   "metadata": {
    "vscode": {
     "languageId": "r"
    }
   },
   "outputs": [],
   "source": [
    "mi.seq <- c(\"A\",\"T\",\"C\",\"G\")\n",
    "mi.oligos <- c(\"ATCGC\",\"TTTCGC\",\"CCCGCG\",\"GGGCGC\")"
   ]
  },
  {
   "cell_type": "code",
   "execution_count": null,
   "metadata": {
    "vscode": {
     "languageId": "r"
    }
   },
   "outputs": [],
   "source": [
    "### Listas\n",
    "\n",
    "milist <- list(nombre=\"Laura\", \n",
    "               apellido=\"Salazar\", \n",
    "               mivector)\n",
    "milist$nombre\n",
    "milist$apellido\n",
    "milist[[3]] #mivector no se definió como variable, pero puede extraerse de su posición (note el doble corchete)"
   ]
  },
  {
   "cell_type": "markdown",
   "metadata": {},
   "source": [
    "### Tables\n",
    "\n",
    "La función table() tabula el número de ocurrencias de elementos en un vector, por ejemplo ``mivector``"
   ]
  },
  {
   "cell_type": "code",
   "execution_count": null,
   "metadata": {
    "vscode": {
     "languageId": "r"
    }
   },
   "outputs": [],
   "source": [
    "bases <- c(\"A\", \"T\", \"A\", \"A\", \"T\", \"C\", \"G\", \"C\", \"G\")\n",
    "bases.table <- table(bases)\n",
    "bases.table[[\"T\"]]"
   ]
  },
  {
   "cell_type": "markdown",
   "metadata": {},
   "source": [
    "### Dataframes"
   ]
  },
  {
   "cell_type": "code",
   "execution_count": null,
   "metadata": {
    "vscode": {
     "languageId": "r"
    }
   },
   "outputs": [],
   "source": [
    "nordic_area <- c(42434, 303815, 100250, 304282, 410335)\n",
    "nordic_names <- c(\"Denmark\", \"Finland\", \"Iceland\", \"Norway\", \"Sweden\")\n",
    "nordic <- c(5868927, 5572355, 350773, 5465387, 10185555)\n",
    "nordic_df <- data.frame(country = nordic_names, \n",
    "                        population = nordic, \n",
    "                        area = nordic_area)\n",
    "\n",
    "# cada columna es un vector\n",
    "nordic_df$country\n",
    "nordic_df$population\n",
    "nordic_df$area"
   ]
  },
  {
   "cell_type": "markdown",
   "metadata": {},
   "source": [
    "### Instalación de librerías \n",
    "\n",
    "Dentro de R se pueden instalar librerías los comandos"
   ]
  },
  {
   "cell_type": "code",
   "execution_count": null,
   "metadata": {
    "vscode": {
     "languageId": "r"
    }
   },
   "outputs": [],
   "source": [
    "# opción1\n",
    "install.packages(\"ape\")\n",
    "install.packages(\"BiocManager\")\n",
    "#opción2 (necesita tener el instalador BiocManager)\n",
    "# y se carga la librería BiocManager para instalar\n",
    "library(BiocManager)\n",
    "BiocManager::install(\"ape\")\n",
    "BiocManager::install(\"msa\")"
   ]
  },
  {
   "cell_type": "markdown",
   "metadata": {},
   "source": [
    "También se puede utilizar el gestionador conda"
   ]
  },
  {
   "cell_type": "markdown",
   "metadata": {},
   "source": [
    "## Inferencia Filogenética\n",
    "\n",
    "El cálculo de las distancias y el orden de agrupamiento es la fuente para realizar una inferencia filogenética. Primero se utilizan métodos de agrupamiento (*cluster*) basados en la **matriz de distancia** (calculada a partir de un alineamiento). Este primer agrupamiento no agarantizan una solución óptima, así que en segundo lugar se busca el mejor árbol. Vamos a ver aquí dos métodos: el de parsimonia y el d maximum likelihood.\n",
    "\n",
    "Para entender los conceptos utilizando R vamos a seguir el siguiente tutorial:\n",
    "\n",
    "https://rpubs.com/mvillalobos/L01_Phylogeny"
   ]
  }
 ],
 "metadata": {
  "kernelspec": {
   "display_name": "Python 3 (ipykernel)",
   "language": "python",
   "name": "python3"
  },
  "language_info": {
   "codemirror_mode": {
    "name": "ipython",
    "version": 3
   },
   "file_extension": ".py",
   "mimetype": "text/x-python",
   "name": "python",
   "nbconvert_exporter": "python",
   "pygments_lexer": "ipython3",
   "version": "3.8.1"
  },
  "widgets": {
   "application/vnd.jupyter.widget-state+json": {
    "state": {},
    "version_major": 2,
    "version_minor": 0
   }
  }
 },
 "nbformat": 4,
 "nbformat_minor": 4
}
