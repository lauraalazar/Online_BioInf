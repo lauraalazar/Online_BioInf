{
 "cells": [
  {
   "cell_type": "markdown",
   "metadata": {},
   "source": [
    "# Variables, declaraciones y loops\n",
    "\n",
    "## Variables\n",
    "Una variable es un término que contiene almacenado un dato con información simple y que puede cambiar el dato. \n"
   ]
  },
  {
   "cell_type": "code",
   "execution_count": null,
   "metadata": {
    "vscode": {
     "languageId": "shellscript"
    }
   },
   "outputs": [],
   "source": [
    "counter=1\n"
   ]
  },
  {
   "cell_type": "markdown",
   "metadata": {},
   "source": [
    "```\n",
    "echo $counter \n",
    "```"
   ]
  },
  {
   "cell_type": "markdown",
   "metadata": {},
   "source": [
    "```\n",
    "echo counter \n",
    "```"
   ]
  },
  {
   "cell_type": "markdown",
   "metadata": {},
   "source": [
    "Qué diferencia hay entre ``counter`` y ``$counter``? Que la segunda es una **variable** y por lo tanto puede tomar cualquier valor según lo definamos. "
   ]
  },
  {
   "cell_type": "markdown",
   "metadata": {},
   "source": [
    "### If"
   ]
  },
  {
   "cell_type": "markdown",
   "metadata": {},
   "source": [
    "Una declaracion (statement) condicional es **if** y determina que, si un chequeo es verdadero, realice una acción, y si es falso no lo haga. **If** tiene el siguiente formato:"
   ]
  },
  {
   "cell_type": "markdown",
   "metadata": {},
   "source": [
    "``if [ <un chequeo> ]``\n",
    "\n",
    "``then``\n",
    "\n",
    "   ``<comando>``\n",
    "\n",
    "``fi``"
   ]
  },
  {
   "cell_type": "markdown",
   "metadata": {},
   "source": [
    "Todo lo que esté entre *then* y *fi* se ejecutará solamente si el chequeo (entre corchetes) es verdadero.\n",
    "Un ejemplo simple que chequea si un número es mayor que otro (``gt`` significa \"greater than\")"
   ]
  },
  {
   "cell_type": "markdown",
   "metadata": {
    "vscode": {
     "languageId": "shellscript"
    }
   },
   "source": [
    "```\n",
    "num1=10\n",
    "num2=5\n",
    "\n",
    "if [ $num1 -gt $num2 ]; then  \n",
    "echo \"num1 es $num1 y es mayor que $num2\"\n",
    "fi\n",
    "```"
   ]
  },
  {
   "cell_type": "markdown",
   "metadata": {},
   "source": [
    "<div class=\"alert alert-block alert-warning\">\n",
    "<b> Es importante dejar espacio entre los corchetes y su contenido </div>\n"
   ]
  },
  {
   "cell_type": "markdown",
   "metadata": {},
   "source": [
    "<div class=\"alert alert-block alert-info\">\n",
    "<b>Ejercicio</b> Haga el ejercicio de invertir el chequeo entre corchetes y observe que pasa </div>"
   ]
  },
  {
   "cell_type": "markdown",
   "metadata": {},
   "source": [
    "### While loop"
   ]
  },
  {
   "cell_type": "markdown",
   "metadata": {},
   "source": [
    "Los loops son muy importantes porque permiten que un comando corra recurrentemente hasta que suceda una situación declarada (statement) o la expresión sea falsa. Este principio es fundamental para la automatización. \n",
    "El loop **while** define que, mientras una expresión es verdadera, continúe ejecutando las líneas de código. Tiene el siguiente formato \n",
    "\n",
    "``while [ un chequeo ]``\n",
    "\n",
    "``do``\n",
    "\n",
    "   ``<comando>``\n",
    "\n",
    "``done``"
   ]
  },
  {
   "cell_type": "markdown",
   "metadata": {},
   "source": [
    "Ahora vamos a escribir un loop para imprimir los numeros del 1 al 10"
   ]
  },
  {
   "cell_type": "markdown",
   "metadata": {},
   "source": [
    "Vamos a descomponer las líneas: \n",
    "- Linea 1: inicializa la variable **counter** con un valor.\n",
    "- Linea 2: Chequea que mientras (**While**) la declaración es verdad (counter es menor o igual a 10) \n",
    "- Linea 3: ejecutemos el siguiente comando.\n",
    "- Linea 4: aquí podemos poner cualquier comando. En este caso **echo** se utiliza porque es simple para ilustrar el propósito.\n",
    "- Linea 6: incrementamos la variable **counter** por 1 [counter++].\n",
    "- Linea 7: al final del loop, vuelve al inicio a hacer el chequeo. Si es verdad, ejecuta el comando, si es falso conitnua a la siguiente linnea.\n",
    "\n",
    "Este programa que ejecutamos en la terminal lo podemos escribir en un script para correrlo las veces que necesitemos y para registrar lo que hicimos"
   ]
  },
  {
   "cell_type": "markdown",
   "metadata": {
    "vscode": {
     "languageId": "shellscript"
    }
   },
   "source": [
    "```\n",
    "$ nano while_loop.sh\n",
    "\n",
    "#!/bin/bash\n",
    "# Basic while loop\n",
    "counter=1\n",
    "while [ $counter -le 10 ]\n",
    "do\n",
    "echo $counter\n",
    "((counter++))\n",
    "done\n",
    "\n",
    "```\n"
   ]
  },
  {
   "cell_type": "markdown",
   "metadata": {},
   "source": [
    "``[ctrl-o] [enter]`` y ``[ctrl-x]``"
   ]
  },
  {
   "cell_type": "markdown",
   "metadata": {},
   "source": [
    "<div class=\"alert alert-block alert-info\">\n",
    "<b>Ejercicio</b> Haga el script ejecutable y córralo </div>"
   ]
  },
  {
   "cell_type": "markdown",
   "metadata": {},
   "source": [
    "### For loop"
   ]
  },
  {
   "cell_type": "markdown",
   "metadata": {},
   "source": [
    "Este loop toma cada item en una lista (en orden, uno después del otro), asigna ese item como valor a la variable **var**, ejecuta los comandos entre **do** y **done** y vuelve al inicio para tomar el siguiente item y repetir recurrentemente.  Tiene la siguiente sintaxis:"
   ]
  },
  {
   "cell_type": "markdown",
   "metadata": {},
   "source": [
    "``for var in <list>``\n",
    "\n",
    "``do``\n",
    "\n",
    "   ``<comando>``\n",
    "\n",
    "``done``"
   ]
  },
  {
   "cell_type": "markdown",
   "metadata": {},
   "source": [
    "El siguiente ejemplo ilustra su uso en un directorio que contiene los archivos fasta de secuencias de covid19. Primero vamos a crear un directorio que se llame **sars_covid19** y luego vamos a descargar allí las secuencias del:\n",
    "- genoma\n",
    "- proteinas\n",
    "- cds (genes codificadores de proteínas)"
   ]
  },
  {
   "cell_type": "markdown",
   "metadata": {},
   "source": [
    "```\n",
    "mkdir sars_covid19\n",
    "curl http://ftp.ensemblgenomes.org/pub/viruses/fasta/sars_cov_2/dna/Sars_cov_2.ASM985889v3.dna_rm.toplevel.fa.gz -o ./sars_covid19/Sars_cov.dna.fa.gz\n",
    "curl http://ftp.ensemblgenomes.org/pub/viruses/fasta/sars_cov_2/pep/Sars_cov_2.ASM985889v3.pep.all.fa.gz -o ./sars_covid19/Sars_cov.prot.fa.gz\n",
    "curl http://ftp.ensemblgenomes.org/pub/viruses/fasta/sars_cov_2/cds/Sars_cov_2.ASM985889v3.cds.all.fa.gz -o ./sars_covid19/Sars_cov.cds.fa.gz\n",
    "\n",
    "```"
   ]
  },
  {
   "cell_type": "markdown",
   "metadata": {},
   "source": [
    "```\n",
    "cd sars-covid19\n",
    "ls\n",
    "gunzip *.gz\n",
    "\n",
    "```\n"
   ]
  },
  {
   "cell_type": "markdown",
   "metadata": {},
   "source": [
    "Cuando descargamos los archivos los nombramos con un ``./sars_covid`` que precede al nombre. Esto indica que lo guarde en el directorio llamado ``sars_covid`` que esta dentro del directorio donde nos encontramos ``.`` "
   ]
  },
  {
   "cell_type": "markdown",
   "metadata": {},
   "source": [
    "```\n",
    "for f in $(ls);\n",
    "    do wc -l $f;\n",
    "        done\n",
    "        \n",
    "```        "
   ]
  },
  {
   "cell_type": "markdown",
   "metadata": {},
   "source": [
    "Note como listamos el directorio usando ``ls`` y lo encerramos en el comanod  ``$()``. Esto nos permite crear una variable que contiene el resultado del comando ``ls``. \n",
    "Luego iteramos sobre cada item del directorio **sars_covid19** y contamos el número de líneas con ``wc -l``"
   ]
  }
 ],
 "metadata": {
  "language_info": {
   "name": "python"
  }
 },
 "nbformat": 4,
 "nbformat_minor": 2
}
