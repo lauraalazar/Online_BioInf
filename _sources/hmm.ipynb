{
 "cells": [
  {
   "cell_type": "markdown",
   "metadata": {},
   "source": [
    "# Hidden Markov Models\n",
    "\n",
    "A pesar de que los alineamientos son muy útiles para comparar diferentes secuencias, no son suficientes para el nivel de *ruido* que poseen los genomas. Para esto es útil tener niveles de confianza de los patrones que se observan. Los Modelos de Markov sirven para cuantificar estados siguientes apartir de la información que se tiene. Un ejemplo clásico de un modelo de Markov es una predicción climática (ejemplo tomado de https://towardsdatascience.com/predicting-the-weather-with-markov-chains-a34735f0c4df)"
   ]
  },
  {
   "cell_type": "markdown",
   "metadata": {},
   "source": [
    "## Predicción climática usando Markov Chain\n",
    "\n",
    "1. Datos Observados: Supongamos que hemos generado 7 días de datos históricos de clima para entrenar nuestro Markov Chain. La secuencia de eventos son: [rain, sun, rain, sun, rain, rain, sun]\n",
    "<img src=\"weather1.webp\"/>\n"
   ]
  },
  {
   "cell_type": "markdown",
   "metadata": {},
   "source": [
    "2. Inferencia del patrón (*Hidden path*): Ahora calculamos los porcentajes de \n",
    "    a) días soleados después de días lluviosos: 3/4=75%\n",
    "\n",
    "<img src=\"weather2.webp\"/>\n",
    "\n",
    "\n",
    "\n",
    "    b) días lluviosos después de días soleados: 2/2 = 100%\n",
    "\n",
    "<img src=\"weather3.webp\"/>\n"
   ]
  },
  {
   "cell_type": "markdown",
   "metadata": {},
   "source": [
    "3. Construimos una matriz de transición con las probabilidades basadas en observaciones de los estados ocultos (rain-after-rain = 25% and sun-after-sun = 0%).\n",
    "\n",
    "<img src=\"matrix.webp\"/>"
   ]
  },
  {
   "cell_type": "markdown",
   "metadata": {},
   "source": [
    "4. Markov Chain\n",
    "\n",
    "<img src=\"markovchain.webp\"/>"
   ]
  },
  {
   "cell_type": "markdown",
   "metadata": {},
   "source": [
    "### HMM para Anotaciones de Genoma\n",
    "\n",
    "Hidden Markov models (HMMs) so una forma de realizar modelos probabilísticos para *marcar* (anotar) fragmentos de secuencias. Estos modelos permiten tener en cuenta la heterogeneidad de diferentes fuentes y así nos evitan tener que imponer parámetros y patrones *ad hoc*.\n",
    "\n",
    "<img src=\"hmm_exon_intron.webp\"/>\n",
    "\n",
    "Por ejemplo, cómo reconocer sitios de splicing? De acuerdo a un modelo de probabilidades podemos donde es el cambio de exón a intrón. \n",
    "\n",
    "https://www.nature.com/articles/nbt1004-1315"
   ]
  },
  {
   "cell_type": "markdown",
   "metadata": {},
   "source": [
    "## Herramientas HMM para secuencias\n",
    "\n",
    "### Pfam-Interpro\n",
    "\n",
    "Largas bases de datos de alineamientos múltiples se han utilizado para generar hidden Markov models. Estos agrupan los patrones y dan información funcional, clasificando las proteínas en familias así como haciendo predicciones de dominios. Esta conjunto de bases de datos está alojado en InterPro: https://www.ebi.ac.uk/interpro/ (Para un tutorial más completo visite:\n",
    "https://www.ebi.ac.uk/training/online/courses/interpro-quick-tour/#vf-tabs__section--contents)"
   ]
  },
  {
   "cell_type": "markdown",
   "metadata": {},
   "source": [
    "<div class=\"alert alert-block alert-info\">\n",
    "<b>Ejercicio</b> Entre a https://www.ebi.ac.uk/interpro/search/sequence/ y pegue en la casilla en blanco una de las secuencias de citocromo B. De click en \"search\" y observe los resultados. Cuales son los dominios y familias? </div>"
   ]
  },
  {
   "cell_type": "markdown",
   "metadata": {},
   "source": [
    "### HMMER\n",
    "\n",
    "Contrariamente, podríamos estar interesados en buscar las proteínas pertencientes a cierta familia en un genoma o en otra especies. Esto decir, dado un perfil de HMM, que proteínas entran en este perfil (con cierta probabilidad)? Esto se puede realizar utilizando la herramienta HMMER: https://www.ebi.ac.uk/Tools/hmmer/search/hmmsearch"
   ]
  },
  {
   "cell_type": "markdown",
   "metadata": {},
   "source": [
    "<div class=\"alert alert-block alert-info\">\n",
    "<b>Ejercicio</b> Entre a https://www.ebi.ac.uk/Tools/hmmer/search/hmmsearch y cargue el alineamiento de Citocromos realizado previamente (CytBProt.phy) y escoja una base de datos para buscar el perfil () </div>"
   ]
  },
  {
   "cell_type": "markdown",
   "metadata": {},
   "source": [
    "\n"
   ]
  }
 ],
 "metadata": {
  "kernelspec": {
   "display_name": "Python 3 (ipykernel)",
   "language": "python",
   "name": "python3"
  },
  "language_info": {
   "codemirror_mode": {
    "name": "ipython",
    "version": 3
   },
   "file_extension": ".py",
   "mimetype": "text/x-python",
   "name": "python",
   "nbconvert_exporter": "python",
   "pygments_lexer": "ipython3",
   "version": "3.8.1"
  },
  "widgets": {
   "application/vnd.jupyter.widget-state+json": {
    "state": {},
    "version_major": 2,
    "version_minor": 0
   }
  }
 },
 "nbformat": 4,
 "nbformat_minor": 4
}
