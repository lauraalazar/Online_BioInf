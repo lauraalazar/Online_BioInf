{
 "cells": [
  {
   "cell_type": "markdown",
   "metadata": {},
   "source": [
    "# Alineamientos y cuentas\n",
    "\n",
    "\n",
    "## Alineamientos\n",
    "Una vez revisada la calidad de las lecturas, se realiza el alineamiento o mapeo de estas a un genoma de referencia (o al transcriptoma ensamblado a partir de estas mismas lecturas). Existen varios programas, por ejemplo GSNAP, HISAT2, STAR, BWA, Salmon,."
   ]
  },
  {
   "cell_type": "markdown",
   "metadata": {},
   "source": [
    "<img src=\"RNAseqWorkflow.png\"/>"
   ]
  },
  {
   "cell_type": "markdown",
   "metadata": {},
   "source": [
    "El objetivo de este paso es entender cuantas lecturas se alinean con cada gen"
   ]
  },
  {
   "cell_type": "markdown",
   "metadata": {},
   "source": [
    "<img src=\"RNAseq_alignment.webp\"/>\n",
    "https://biobox-analytics.medium.com/sequencing-alignment-for-beginners-9687c0dcfc67"
   ]
  },
  {
   "cell_type": "markdown",
   "metadata": {},
   "source": [
    "El output del alineamiento es un archivo .sam (Sequence Alignment/Map), compuesto por una tabla con la información del alineamiento de todas las lecturas que alinearon. Por esta razón es un archivo muy extenso y pesado, el cual se puede convertir en un archivo binario .bam\n",
    "\n",
    "Cada linea contiene 11 campos obligatorios para información esencial sobre el mapeo. El siguiente es un ejemplo de archivo sam."
   ]
  },
  {
   "cell_type": "markdown",
   "metadata": {},
   "source": [
    "<img src=\"sam_format_annotated_example.webp\"/>\n",
    "https://bioinformaticamente.com/2021/03/03/sam-bam/"
   ]
  },
  {
   "cell_type": "markdown",
   "metadata": {},
   "source": [
    "## Cuentas\n",
    "\n",
    "Luego viene el paso de cuantificación. Esta se puede realizar con herramientas como htseq-count or FeatureCounts. La cuantificación de reads alineados produce una tabla de IDs de genes y sus cuentas.\n",
    "Revise los resultados, por ejemplo de 2 muestras diferentes, una de *D. melanogaster* y otra de *D. sechellia*:"
   ]
  },
  {
   "cell_type": "markdown",
   "metadata": {},
   "source": [
    " \n",
    "https://github.com/lauraalazar/RNAseq-Drosophila-parasitoids/blob/master/counts/melS1/sample1.counts\n",
    "https://github.com/lauraalazar/RNAseq-Drosophila-parasitoids/blob/master/counts/sec/sample21.counts\n",
    "Verá una columna con los ID provenientes de [Flybase](https://flybase.org/), la base de datos para *Drosophila*."
   ]
  },
  {
   "cell_type": "markdown",
   "metadata": {},
   "source": []
  },
  {
   "cell_type": "markdown",
   "metadata": {},
   "source": [
    "## Expresión Diferencial\n",
    "\n",
    "El siguiente paso es entender cuales de esos genes se están expresando a un nivel basal, y cuales se expresan en respuesta a un estímulo. Es decir, cómo saber qué genes se están **sobre-expresado** o **sub-expresado**? Para esto necesitamos \n",
    "- 1. *normalizar* las cuentas, y existen varias metodologías para esto (listar). \n",
    "- 2. comparar los controles con el tratamiento. En este caso, se utilizó [edgeR](https://www.bioconductor.org/packages/devel/bioc/vignettes/edgeR/inst/doc/edgeRUsersGuide.pdf) para la comparación estadística. Esta herramienta utiliza una distribución *baseline* de genes para estimar rangos de expresión, y luego, para cada gen, compara la expresión del tratamiento vs controles determinar una expresión diferencial significativa\n",
    "\n",
    "<img src=\"logFold_cpm.webp\"/>\n"
   ]
  },
  {
   "cell_type": "markdown",
   "metadata": {},
   "source": []
  },
  {
   "cell_type": "markdown",
   "metadata": {},
   "source": [
    "- Fold Change: cambio relativo en la expresión de un gen con respecto a una referencia, por ejemplo controles vs tratamiento. Por ejemplo, un aumento de 2 veces (2-fold) indica que la expresión de un gen se ha duplicado ($2*genx_{par} = 2*genx_{ctl}$), mientras que un valor de 0.5-fold indica una disminución a la mitad. \n",
    "\n",
    "    - $log_2(1) = 0$ \n",
    "    - $log_2(2) = 1$\n",
    "    - $log2(0.5) = -1$\n",
    "\n",
    "- CPM: counts per million es el número de lecturas de un gen que se observarían por cada millón de lecturas totales en la muestra."
   ]
  },
  {
   "cell_type": "markdown",
   "metadata": {},
   "source": [
    "Siguiendo con el estudio de caso de las mosquitas *Drosophilas*, algunos de los genes que dieron significativos para la expresión diferencial entre muestras parasitadas y control se pueden consultar en la tabla: https://github.com/lauraalazar/RNAseq-Drosophila-parasitoids/blob/master/tables/LRT.pTable_spAll_5.txt\n",
    "Vamos a analizar el gen Tep1, que tiene un identificador en Flybase FBgn0041183"
   ]
  },
  {
   "cell_type": "markdown",
   "metadata": {},
   "source": [
    "<div class=\"alert alert-block alert-info\">\n",
    "<b>Ejercicio</b> Consulte el la información que hay disponible sobre este gen en https://flybase.org/ </div>"
   ]
  },
  {
   "cell_type": "markdown",
   "metadata": {},
   "source": [
    "Vamos a descargar dos archivos con las cuentas de este gen en las muestras de control y pasaritadas\n",
    "https://raw.githubusercontent.com/lauraalazar/Online_BioComp/refs/heads/master/melS1_FBgn0041183.txt\n",
    "https://raw.githubusercontent.com/lauraalazar/Online_BioComp/refs/heads/master/melS1_FBgn0041183.txt"
   ]
  },
  {
   "cell_type": "markdown",
   "metadata": {},
   "source": [
    "### Análisis de gen con expresión diferencial"
   ]
  },
  {
   "cell_type": "code",
   "execution_count": null,
   "metadata": {
    "vscode": {
     "languageId": "r"
    }
   },
   "outputs": [],
   "source": [
    "\n",
    "# Cargar las cuentas para las muestras de D. melanogaster para el gen Tep1\n",
    "setwd(\"docencia/eafit/comp_bio/2024-2/alineamiento_cuentas/\")\n",
    "cuentas_mel <-read.table(\"melS1_FBgn0041183.txt\", header=T)\n",
    "\n",
    "# cuales son las muestras control?\n",
    "mel.ctl <- which(cuentas_mel$tratamiento==\"ctl\")\n",
    "mel.ctl\n",
    "\n",
    "# creamos una variable para las muestras control\n",
    "mel.cuentas.ctl<-cuentas_mel[ctl,] #esta forma de escribirlo significa que las hileras son las ctl y no se espcifica las columnas (las despliega todas)\n",
    "\n",
    "# creamos una variable para las muestras parasitadas\n",
    "mel.par <- which(cuentas_mel$tratamiento==\"par\")\n",
    "mel.par\n",
    "mel.cuentas.par<-cuentas_mel[par,]\n",
    "\n",
    "# Hallamos las medias de las cuentas, que cree de la expresion de esots genes?\n",
    "mel.mean.ctl<-mean(mel.cuentas.ctl$cuentas)\n",
    "mel.mean.ctl\n",
    "mel.mean.par<-mean(mel.cuentas.par$cuentas)\n",
    "mel.mean.par\n",
    "\n",
    "\n",
    "# Graficamos las cuentas del grupo ctl vs par\n",
    "boxplot(cuentas_mel$cuentas~cuentas_mel$tratamiento,xlab = \"tratamiento\",ylab = \"cuentas\", main=\"Expresión de gen FBgn0041183\")\n",
    "# \n"
   ]
  },
  {
   "cell_type": "markdown",
   "metadata": {},
   "source": [
    "<div class=\"alert alert-block alert-info\">\n",
    "Qué diría de la expresión de este gen? Se expresa bajo el estímulo del parásito? </div> "
   ]
  },
  {
   "cell_type": "markdown",
   "metadata": {},
   "source": [
    "# Intermezzo ggplot\n",
    "\n",
    "Una libreria muy utilizada en R es ggplot2. Esta despliega figuras estéticas y es versátil para personalizar propiedades visuales. \n",
    "https://datacarpentry.org/R-ecology-lesson/instructor/04-visualization-ggplot2.html"
   ]
  },
  {
   "cell_type": "code",
   "execution_count": null,
   "metadata": {
    "vscode": {
     "languageId": "r"
    }
   },
   "outputs": [],
   "source": [
    "# install.packages(ggplot2) # si no tiene la librería, instálela (removiendo el símbolo de comentario)\n",
    "\n",
    "library(ggplot2)\n",
    "\n",
    "# los parametro mínimos: la base de datos (cuentas_mel) y la estética (aes()) que produce los ejes\n",
    "ggplot(cuentas_mel,aes(tratamiento,cuentas)) + # con cada \"+\" vamos incluyendo capas de complejidad\n",
    "  geom_boxplot() # en forma de boxplot \n",
    "\n",
    "\n",
    "ggplot(cuentas_mel,aes(tratamiento,cuentas)) +\n",
    "  geom_boxplot() +\n",
    "  geom_jitter(color = \"blue\") # define los puntos y opcionalmente el color\n",
    "\n",
    "# y así se pueden incluir capas\n",
    "ggplot(cuentas_mel,aes(tratamiento,cuentas)) +\n",
    "  geom_boxplot() +\n",
    "  geom_jitter(color = \"blue\") +\n",
    "  ggtitle(\"Expresión de gen FBgn0041183\") #personaliza el título\n"
   ]
  },
  {
   "cell_type": "markdown",
   "metadata": {},
   "source": [
    "<div class=\"alert alert-block alert-info\">\n",
    "<b>Ejercicio</b>  Repita los mismos pasos para obtner una gráfica del mismo gen en otra especie cercana, D. sechellia: https://raw.githubusercontent.com/lauraalazar/Online_BioComp/refs/heads/master/sec_FBgn0172832.txt </div>"
   ]
  },
  {
   "cell_type": "markdown",
   "metadata": {},
   "source": [
    "Ahora vamos a combinar los dos dataset para generar una gráfica unificada"
   ]
  },
  {
   "cell_type": "code",
   "execution_count": null,
   "metadata": {
    "vscode": {
     "languageId": "r"
    }
   },
   "outputs": [],
   "source": [
    "# Primero hay que incluir una columna en cada dataset que defina la especie, llamada \"sp\"\n",
    "cuentas_mel$sp <- rep(\"mel\",6) # creamos un vector que repite \"mel\" 6 veces\n",
    "cuentas_sec$sp <- rep(\"sec\",6) # creamos un vector similar para sec\n",
    "\n",
    "# Union de los dos dataset\n",
    "cuentas_2spp <- rbind(cuentas_mel,cuentas_sec)\n",
    "cuentas_2spp\n",
    "\n",
    "# Por último vamos a generar una gráfica con las dos especies\n",
    "ggplot(cuentas_2spp,aes(tratamiento,cuentas)) +\n",
    "  geom_boxplot() +\n",
    "  geom_jitter(color = \"blue\") +\n",
    "  facet_wrap(facets = vars(sp)) +\n",
    "  ggtitle(\"Expresión de gen Tep1 en D. melanogaste y D. sechellia\")"
   ]
  }
 ],
 "metadata": {
  "language_info": {
   "name": "python"
  }
 },
 "nbformat": 4,
 "nbformat_minor": 2
}
