{
 "cells": [
  {
   "attachments": {},
   "cell_type": "markdown",
   "metadata": {},
   "source": [
    "# Introducción a la Terminal\n",
    "\n",
    "La terminal es una interfase para realizar operaciones por vía de comandos de texto. Estos se utilizan porque es una forma rápida, versátil y a veces la única vía de comunicación con el computador. La terminal funciona con un programa *Shell* que interpreta los comandos y los ejecuta. \n"
   ]
  },
  {
   "attachments": {},
   "cell_type": "markdown",
   "metadata": {},
   "source": [
    "<figure>\n",
    "<img src=\"terminal_icon.png\" width=150 height=150 />\n"
   ]
  },
  {
   "attachments": {},
   "cell_type": "markdown",
   "metadata": {},
   "source": [
    "La terminal es una alternativa al ambiente gráfico (*GUI*, \"Graphical User Interphase\") pero mas sencillo para dar instrucciones...sin embargo hay que saber como darlas para que el sistema responda."
   ]
  },
  {
   "cell_type": "markdown",
   "metadata": {},
   "source": [
    "## Instalación\n",
    "\n",
    "En sistemas operativos Linux y Mac, la terminal ya está incorporada y los comandos que se describen aquí funcionan para ambos. Para los usuarios de Windows hay varias formas de acceder:\n",
    "- Windows subsytem for Linux [WSL](https://learn.microsoft.com/en-us/windows/wsl/install)\n",
    "- Una doble partición con algunas de las distribuciones de [Linux](https://www.linux.com/what-is-linux/) (por ejemplo, Ubuntu)\n",
    "- [Cygwin](https://www.cygwin.com/) una aplicación que permite correr linux dentro de windows"
   ]
  },
  {
   "attachments": {},
   "cell_type": "markdown",
   "metadata": {},
   "source": [
    "## Comandos Básicos\n",
    "### ls (listar)\n",
    "Cuando se entra al sistema, el directorio donde uno se encuentra es el *home*. Para saber que hay dentro de *home*, escribimos\n"
   ]
  },
  {
   "cell_type": "code",
   "execution_count": null,
   "metadata": {
    "vscode": {
     "languageId": "shellscript"
    }
   },
   "outputs": [],
   "source": [
    "ls"
   ]
  },
  {
   "attachments": {},
   "cell_type": "markdown",
   "metadata": {},
   "source": [
    "El comando ls lista el contenido de directorio de trabajo (*current directory*). \n",
    "\n",
    "Pero ls no lista realmene todos los archivos, solo aquellos que son visibles. Los archivos que comienzan con un punto (.) y que se conocen como ocultos contienen informacion importante de configuracion que no debe ser alterada, a menos que sepamos bien que estamos haciendo.\n",
    "\n",
    "\n",
    "Ahora listemos todos los archivos del directorio, incluyendo los ocultos:"
   ]
  },
  {
   "cell_type": "code",
   "execution_count": null,
   "metadata": {
    "vscode": {
     "languageId": "shellscript"
    }
   },
   "outputs": [],
   "source": [
    "ls -a"
   ]
  },
  {
   "attachments": {},
   "cell_type": "markdown",
   "metadata": {},
   "source": [
    "ls es un ejemplo de un comando con opciones: -a es un ejemplo de una opción. Las opciones cambianel comportamiento del comando. \n",
    "\n",
    "<div class=\"alert alert-block alert-warning\">\n",
    "<b>Nota 1:</b> los nombres de archivos en linux son sensibles a mayúsculas y minúsculas (*case sensitive*), i.e. Test.txt es diferente de test.txt y ambos archivos pueden coexistir en una carpeta. </div>\n",
    "\n",
    "\n",
    "<div class=\"alert alert-block alert-warning\">\n",
    "<b>Nota 2:</b> los espacios generan muchos errores en los nombres de archivos y carpetas. Es mejor reemplazarlos por guión inferior, i.e Texto Final 2.txt reemplazar por Texto\\_Final\\_2.txt </div>\n",
    "\n",
    "## Estructura de los directorios\n",
    "\n",
    "Todos los archivos están  agrupados en la estructura del directorio y esta estructura es jerárquica. \n",
    "\n",
    "<img src=\"unix-tree.png\" width=400 height=400 />\n",
    "\n",
    "Para saber donde nos encontramos en la estructura del directorio usamos el comando \"print working directory\"\n",
    "\n"
   ]
  },
  {
   "cell_type": "code",
   "execution_count": null,
   "metadata": {
    "vscode": {
     "languageId": "shellscript"
    }
   },
   "outputs": [],
   "source": [
    "pwd"
   ]
  },
  {
   "attachments": {},
   "cell_type": "markdown",
   "metadata": {},
   "source": [
    "## Crear directorios\n",
    "\n",
    "### mkdir (make directory)\n",
    "Utilizamos este comando para crear un subdirectorio en el directorio donde estamos\n"
   ]
  },
  {
   "cell_type": "code",
   "execution_count": null,
   "metadata": {
    "vscode": {
     "languageId": "powershell"
    }
   },
   "outputs": [],
   "source": [
    "mkdir biocomp_clase1"
   ]
  },
  {
   "attachments": {},
   "cell_type": "markdown",
   "metadata": {},
   "source": [
    "Para ver el directorio que acabamos de crear escribimos"
   ]
  },
  {
   "cell_type": "code",
   "execution_count": null,
   "metadata": {
    "vscode": {
     "languageId": "powershell"
    }
   },
   "outputs": [],
   "source": [
    "ls"
   ]
  },
  {
   "attachments": {},
   "cell_type": "markdown",
   "metadata": {},
   "source": [
    "<div class=\"alert alert-block alert-info\">\n",
    "<b>Ejercicio</b> crea una carpeta dentro de biocomp_clase1 que se llame \"ejercicios\"</div>"
   ]
  },
  {
   "attachments": {},
   "cell_type": "markdown",
   "metadata": {},
   "source": [
    "## Cambiar directorios\n",
    "\n",
    "### cd (change directory)\n",
    "Utilizamos este comando para cambiar del directorio donde estamos a otro directorio. Para \"entrar\" al directorio que acabamos de crear escribirmos"
   ]
  },
  {
   "cell_type": "code",
   "execution_count": null,
   "metadata": {
    "vscode": {
     "languageId": "shellscript"
    }
   },
   "outputs": [],
   "source": [
    "cd biocomp_clase1"
   ]
  },
  {
   "attachments": {},
   "cell_type": "markdown",
   "metadata": {},
   "source": [
    "Escriba ``ls`` para ver qué hay en el directorio (debería estar vacío).\n",
    "Para volver al directorio parental escribimos"
   ]
  },
  {
   "cell_type": "code",
   "execution_count": null,
   "metadata": {
    "vscode": {
     "languageId": "shellscript"
    }
   },
   "outputs": [],
   "source": [
    "cd .."
   ]
  },
  {
   "attachments": {},
   "cell_type": "markdown",
   "metadata": {},
   "source": [
    "Si seguimos escribiendo ``cd`` recurrentemente vamos subiendo en la jerarquía de directorios\n",
    "\n",
    "### ~ (home)\n",
    "Si escribimos ``cd`` sin puntos llegamos al directorio home. Este se denota también como ``~``\n"
   ]
  },
  {
   "cell_type": "code",
   "execution_count": null,
   "metadata": {
    "vscode": {
     "languageId": "shellscript"
    }
   },
   "outputs": [],
   "source": [
    "ls ~/"
   ]
  },
  {
   "attachments": {},
   "cell_type": "markdown",
   "metadata": {},
   "source": [
    "## Copiar archivos\n",
    "### cp (copy)\n",
    "\n",
    "El comando para copiar un archivo arch1 en el directorio actual a un archivo identico pero nombrado arch2 es:\n",
    "\n",
    "```\n",
    "cp arch1 arch2\n",
    "```\n"
   ]
  },
  {
   "attachments": {},
   "cell_type": "markdown",
   "metadata": {},
   "source": [
    "Ahora vamos a tomar un archivo de internet y a usar el comando  para copiarlo en el directorio que creamos.\n",
    "Primero, cd al directorio biocomp_clase1:\n",
    "\n",
    "```\n",
    "cd ~/biocomp_clase1\n",
    "```\n"
   ]
  },
  {
   "cell_type": "markdown",
   "metadata": {},
   "source": [
    "Para descargar un archivo se puede utilizar ``wget`` y el archivo queda guardado en el directorio donde se dió el comando, con el nombre original\n",
    "\n",
    "```\n",
    "wget https://users.cs.duke.edu/~alvy/courses/unixtut/science.txt\n",
    "```\n"
   ]
  },
  {
   "attachments": {},
   "cell_type": "markdown",
   "metadata": {},
   "source": [
    "También  se puede utilizar ``curl``, y en este caso se debe especificar el nombre con el que quedará guardado el archivo con la opción ``-o``\n",
    "\n",
    "```\n",
    "curl https://users.cs.duke.edu/~alvy/courses/unixtut/science.txt -o science2.txt\n",
    "```\n"
   ]
  },
  {
   "attachments": {},
   "cell_type": "markdown",
   "metadata": {},
   "source": [
    "<div class=\"alert alert-block alert-info\">\n",
    "<b>Ejercicio</b> crea una copia backup del archivo \"science.txt\" que descargaste, llamada \"science.bak\" </div>"
   ]
  },
  {
   "attachments": {},
   "cell_type": "markdown",
   "metadata": {},
   "source": [
    "### Usando [TAB]"
   ]
  },
  {
   "attachments": {},
   "cell_type": "markdown",
   "metadata": {},
   "source": [
    "``[TAB]`` es muy útil en la línea de comandos de Linux: completa automaticamente los comandos que se utilizan. Intenta, por ejemplo, ``$ cd ~/bioc`` y después ``TAB``. Esto también ayudará a hacer sugerencias en caso de múltiples opciones."
   ]
  },
  {
   "attachments": {},
   "cell_type": "markdown",
   "metadata": {},
   "source": [
    "### Moviendo archivos \n",
    "\n",
    "**mv (move)**\n",
    "\n",
    "``mv arch1 arch2`` mueve o cambia el nombre de ``arch1`` a ``arch2`` y por lo tanto solo queda un \n",
    "\n",
    "Vamos a mover el archivo ``science.bak`` a al folder ``ejercicios`` creado previamente.\n",
    "\n",
    "Primero, cambia de directorio a ``biocomp_clase1``. Despué escribe:\n",
    "\n",
    "```\n",
    "mv science.bak ejercicios/\n",
    "```\n",
    "\n",
    "escribe ``ls`` y ``ls ejercicios`` para ver si funcionó."
   ]
  },
  {
   "attachments": {},
   "cell_type": "markdown",
   "metadata": {},
   "source": [
    "### Remover archivos y directorios "
   ]
  },
  {
   "attachments": {},
   "cell_type": "markdown",
   "metadata": {},
   "source": [
    "**rm (remove), rmdir (remove directory)**\n",
    "\n",
    "Para borrar (remover) un archivos, usamos el comando ``rm`` command. Como ejemplo, vamos a crear una copia del archivo ``science.txt`` y borrarlo.\n",
    "\n",
    "dentro del directorio ``biocomp_clase1``, escribe:\n",
    "\n",
    "```\n",
    " cp science.txt tempfile.txt \n",
    " ls\n",
    " rm tempfile.txt\n",
    " ls\n",
    "```\n",
    "\n",
    "Puedes utilizar el comando ``rmdir`` para remover el directorio (aségurate primero que esté vacío). Intenta remover el directorio ``backup``. No podrás porque linux no te permitirá remover un directorio que no está vacío. Para borrar un directorio (que no esté vacío) con sus subdirectorios puedes usar ``-r`` (recursivo):\n",
    "\n",
    "```\n",
    " rm -r /path/directory\n",
    "```\n",
    "\n",
    "Este comando pedirá confirmación para algunos archivos que sean importantes. Si estás absolutamente seguro de este paso, puedes añadir el comando ``-f`` (f de forzar):\n",
    "\n",
    "```\n",
    " rm -rf /path/delete\n",
    "```\n",
    "<div class=\"alert alert-block alert-danger\">\n",
    "<b>Atención</b> Los directorios que se borran con ``rm`` se pierden *para siempre*. No van a ni siquiera a la papelera, si borran directamente.\n",
    " </div>"
   ]
  },
  {
   "attachments": {},
   "cell_type": "markdown",
   "metadata": {},
   "source": [
    "### Mostrar los contenidos de un archivo en la pantalla"
   ]
  },
  {
   "attachments": {},
   "cell_type": "markdown",
   "metadata": {},
   "source": [
    "**cat**\n",
    "\n",
    "Este comando imprime el texto completo en la terminal, si este es muy largo solo se verán las últimas líneas\n",
    "\n",
    "```\n",
    " cat science.txt\n",
    "```\n",
    "\n",
    "\n",
    "**less**\n",
    "\n",
    "El comando ``less`` va mostra los contenidos de un archivo en la terminal desde el comienzo del archivo. Escribe:\n",
    "\n",
    "```\n",
    " less science.txt\n",
    "```\n",
    "\n",
    "Presiona la ``[barra-espaciadora]`` si quieres continuar hacia abajo, y escribe ``[q]`` si quieres terminar la lectura. \n",
    "\n",
    " \n",
    "**head**\n",
    "\n",
    "El comando ``head`` muestra las diez primeras lineas de un archivo en la pantalla:\n",
    "\n",
    "```\n",
    "head science.txt\n",
    "```\n",
    "\n",
    "luego escribe:\n",
    "\n",
    "```\n",
    "head -5 science.txt\n",
    "```\n",
    "\n",
    "Qué diferencia hizo el ``-5`` en el comando?\n",
    "\n",
    " \n",
    "**tail**\n",
    "\n",
    "El comando tail muestra las últimas 10 lineas de un archivo:\n",
    "\n",
    "```\n",
    "tail science.txt\n",
    "```"
   ]
  },
  {
   "attachments": {},
   "cell_type": "markdown",
   "metadata": {},
   "source": [
    "<div class=\"alert alert-block alert-info\">\n",
    "<b>Ejercicio</b> Como podrías ver las últimas 15 lineas de un archivo? </div>"
   ]
  },
  {
   "attachments": {},
   "cell_type": "markdown",
   "metadata": {},
   "source": [
    "**Accediendo el texto**\n",
    "\n",
    "**less**\n",
    "\n",
    "Usando ``less``, se puede buscar dentro de un archivo de texto palabras (un patrón). Por ejemplo, para buscar dentro del archivo ``science.txt`` la palabra \"science\", escribimos:\n",
    "\n",
    "```\n",
    "less science.txt\n",
    "```\n",
    "\n",
    "después, aún en ``less``, escribe slash ``[/]`` seguido por la palabra a buscar:\n",
    "\n",
    "```\n",
    "/science\n",
    "```\n",
    "\n",
    "Y ``[enter]``. Escribe ``[n]`` para buscar por la siguiente ocurrencia en el texto.\n",
    "\n",
    "\n",
    "**grep**\n",
    "\n",
    "``grep`` busca en el archivo palabras o patrones dentro de un texto:\n",
    "\n",
    "```\n",
    "grep science science.txt\n",
    "```\n",
    "\n",
    "Como se puede ver, ``grep`` muestra cada línea que contiene la palabra science.\n",
    "Ahora intente escribir la palabra con mayúscula:\n",
    "\n",
    "```\n",
    "grep Science science.txt\n",
    "```\n",
    "\n",
    "El comando ``grep`` es \"case sensitive\", distingue entre S y s.\n",
    "\n",
    "Para ignorar distinciones entre mayúsculas y minúsculas, utilice la opción ``-i``:\n",
    "\n",
    "```\n",
    "grep -i science science.txt\n",
    "```\n",
    "\n",
    "Para buscar una frase o patrón, se debe encerrarla entre comillas. Por ejemplo, para buscar spinning top, escriba:\n",
    "\n",
    "```\n",
    "grep -i 'spinning top' science.txt\n",
    "```\n",
    "\n",
    "Otras opciones de ``grep`` son:\n",
    "- ``-v`` muestra las líneas que NO contienen el patrón\n",
    "- ``-n`` precede cada línea que contiene el patrón con el número de línea\n",
    "- ``-c`` muestra el número total de líneas que contienen el patrón\n",
    "\n",
    "Intente las diferentes opciones y sus combinaciones. Se pueden utilizar mas de una opción al mismo tiempo! Por ejemplo, el número de líneas sin la palabra science or Science es:\n",
    "\n",
    "```\n",
    "grep -ivc science science.txt\n",
    "```"
   ]
  },
  {
   "cell_type": "markdown",
   "metadata": {},
   "source": [
    "## Manipulación de archivos\n",
    "\n",
    "Para guardar lo que se imprime en pantalla en un archivo se utiliza el comando ``>`` seguido por el nombre del archivo donde se guardará el resultado. Por ejemplo, para guardar todas las líneas que contienen la palabra \"science\" (sin importar si es mayúscula o minúscula) escribimos:\n",
    "\n",
    "```\n",
    "grep -i science science.txt > science_grep.txt\n",
    "```\n",
    "\n",
    "Abra (por ejemplo usando ``less``) el archivo \"science_grep.txt\" y cuente el número de líneas. Ahora escriba:\n",
    "\n",
    "```\n",
    "wc -l  science_grep.txt\n",
    "```\n",
    "\n",
    "El número debe ser igual al que contó ya que ``wc`` (word count) con la opción ``-l`` cuenta el número de líneas. La opción ``-m`` cuenta el número de caracteres. \n",
    "\n",
    "Este mismo resultado lo obtendríamos en el archivo original con el siguiente comando:\n",
    "\n",
    "```\n",
    "grep -i \"science\" science.txt | wc -l\n",
    "```\n",
    "Aquí combinamos los dos comandos anteriores usando ``|`` (\"pipe\") que utiliza el resultado del primer comando como input del segundo\n",
    "\n"
   ]
  },
  {
   "attachments": {},
   "cell_type": "markdown",
   "metadata": {},
   "source": [
    "### Conclusiones de la línea de comando\n",
    "\n",
    "La línea de comando de linux es muy poderoso. Tan poderoso que la gran mayoría de los servidores y super computadoras del mundo funcionan con los sistemas linux (sin interfase gráfica, i.e. usando solamente la línea de comando).\n",
    "\n",
    "Aquí navegamos por algunos ejemplos simples, pero esto es solo un \"abre-bocas\". Por ejemplo, el comando ``grep`` es muy importante y útil para buscar patrones, y ``wget`` para bajar archivos. Ambos comandos mucho mas rápidos que si se usaran la interfase gráfica.\n",
    "\n",
    "Para cada comando hay un manual de uso que se puede acceder con ``man`` y el comando que se desea buscar, por ejemplo ``man grep`` despliega todas las opciones para este comando con ejemplos de uso.\n",
    "\n",
    "Para profundizar sobre linux hay varios tutoriales, por ejemplo https://ryanstutorials.net/linuxtutorial/ o https://swcarpentry.github.io/shell-novice/"
   ]
  }
 ],
 "metadata": {
  "kernelspec": {
   "display_name": "Python 3 (ipykernel)",
   "language": "python",
   "name": "python3"
  },
  "language_info": {
   "codemirror_mode": {
    "name": "ipython",
    "version": 3
   },
   "file_extension": ".py",
   "mimetype": "text/x-python",
   "name": "python",
   "nbconvert_exporter": "python",
   "pygments_lexer": "ipython3",
   "version": "3.8.1"
  },
  "widgets": {
   "application/vnd.jupyter.widget-state+json": {
    "state": {},
    "version_major": 2,
    "version_minor": 0
   }
  }
 },
 "nbformat": 4,
 "nbformat_minor": 4
}
