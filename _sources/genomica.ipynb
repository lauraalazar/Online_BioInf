{
 "cells": [
  {
   "cell_type": "markdown",
   "metadata": {},
   "source": [
    "# De Genes a Genomas\n",
    "\n",
    "Haste el momento hemos partido de genes que conocemos y hemos buscado su secuencia y sus homólogos utilizando bases de datos y alineamientos. Sin embargo, cuando secuenciamos un genoma completo no sabemos de antemano cual es su *arquitectura* (el orden y ubicación de los elementos del genoma). "
   ]
  },
  {
   "cell_type": "markdown",
   "metadata": {},
   "source": [
    "\n",
    "## \"Cracking the code\"\n",
    "\n",
    "Para extraer la información que contiene un genoma desconocido nos basamos en *patrones* de secuencias conocidas"
   ]
  },
  {
   "cell_type": "markdown",
   "metadata": {},
   "source": [
    "### Estadísticas de DNA completo\n",
    "\n",
    "Algunas características simples de obtener de los genomas son útiles para caracterizarlos:  \n",
    "\n",
    "#### Longitud\n",
    "\n",
    "<img src=\"Genome_Sizes.png\"/>\n",
    "By Abizar at English Wikipedia, CC BY-SA 3.0, https://commons.wikimedia.org/w/index.php?curid=19537795"
   ]
  },
  {
   "cell_type": "markdown",
   "metadata": {},
   "source": [
    "#### Frecuencia de nucleótidos\n",
    "La proporción entre A, G, C, and T es una de las propiedades mas fundamentales en la composición de un genoma. En particular el **contenido GC**"
   ]
  },
  {
   "cell_type": "markdown",
   "metadata": {},
   "source": [
    "\n",
    "\n",
    "<img src=\"cg_genome_cds.webp\"/>\n",
    "https://doi.org/10.1007/s00239-024-10160-5\n"
   ]
  },
  {
   "cell_type": "markdown",
   "metadata": {},
   "source": [
    "### Ejemplo de estdísticas de genoma en R\n"
   ]
  },
  {
   "cell_type": "code",
   "execution_count": null,
   "metadata": {
    "vscode": {
     "languageId": "r"
    }
   },
   "outputs": [],
   "source": [
    "# Mucha parte de este código está basado en \n",
    "# https://a-little-book-of-r-for-bioinformatics.readthedocs.io/en/latest/src/chapter2.html\n",
    "# Cargar las librerías\n",
    "library(seqinr) # si no lo tiene instalado, instale via install.packages(\"Seqinr\")\n",
    "\n",
    "# Definir el directorio de trabajo\n",
    "setwd(\"/Users/laura/docencia/eafit/comp_bio/2024-2/biocomp_genomica/\") \n",
    "\n",
    "# Leer el genoma de covid con función de \n",
    "covid <- read.fasta(file = \"Sars_cov.dna.fa\") #archivo descargado previamente y copiado en dir de trabajo\n",
    "\n",
    "# El primer elemento del objeto es la secuencia\n",
    "covidseq<-covid[[1]]\n",
    "\n",
    "# Longitud\n",
    "length(covidseq)\n",
    "\n",
    "# Frecuencia de nucleótidos\n",
    "table(covidseq)\n",
    "\n",
    "#GC content = (number of Gs + number of Cs)*100/(genome length)\n",
    "100*(5492+5863)/(8954+5492+5863+9594) \n",
    "GC(covidseq)\n"
   ]
  },
  {
   "cell_type": "markdown",
   "metadata": {},
   "source": [
    "El contenido de GC no solo varía entre especies, sino a lo largo del genoma. Lugares que codifican están caracterizados por tener un mayor contenido de GC (respecto al GC de su genoma) que partes no codificadoras. Para observar la variación local en contenido GC podemos fraccionar el genoma en fragmentos de 5000 nucleótidos, lo cual se denomina \"sliding window\""
   ]
  },
  {
   "cell_type": "code",
   "execution_count": null,
   "metadata": {
    "vscode": {
     "languageId": "r"
    }
   },
   "outputs": [],
   "source": [
    "GC(covidseq[1:5000])\n",
    "GC(covidseq[5001:10000])\n",
    "GC(covidseq[10001:15000])\n",
    "GC(covidseq[15001:20000])\n",
    "GC(covidseq[20001:29903])"
   ]
  },
  {
   "cell_type": "markdown",
   "metadata": {},
   "source": [
    "En vez de escribir cada función **iterativamente** podemos incluirla en un *for-loop*"
   ]
  },
  {
   "cell_type": "code",
   "execution_count": null,
   "metadata": {
    "vscode": {
     "languageId": "r"
    }
   },
   "outputs": [],
   "source": [
    "starts <- seq(1, length(covidseq)-5000, by = 5000) # define una secuencia cada 5000 (ej seq(2,10,by=2))\n",
    "starts\n",
    "n <- length(starts)    # La longitud de este vector define el número de iteraciones\n",
    "for (i in 1:n) {        \n",
    "  chunk <- covidseq[starts[i]:(starts[i]+4999)] # fragmento de secuencia\n",
    "  chunkGC <- GC(chunk)                          # contenido GC en fragmento\n",
    "  print (chunkGC)\n",
    "}"
   ]
  },
  {
   "cell_type": "markdown",
   "metadata": {},
   "source": [
    "Ahora, en vez de imprimir (``print``) el contenido GC en cada iteración, lo vamos a almacenar en un vector para graficarlo. "
   ]
  },
  {
   "cell_type": "code",
   "execution_count": null,
   "metadata": {
    "vscode": {
     "languageId": "r"
    }
   },
   "outputs": [],
   "source": [
    "chunkGCs <- numeric(n) # Definimos un vector inicial de 0 con la misma longitud del vector \"starts\"\n",
    "# volvemos a iterar en el foor-loop\n",
    "for (i in 1:n) {\n",
    "        chunk <- dengueseq[starts[i]:(starts[i]+4999)]  # para un fragmento de nucleótiods de 5000bp \"chunk\"\n",
    "        chunkGC <- GC(chunk)                            # hallamos su contenido GC(chunk)\n",
    "        print(chunkGC)\n",
    "        chunkGCs[i] <- chunkGC                          # y lo almacenamos en el vector chunkGCs reemplazando el 0 por el valor corresponidente a i\n",
    "     }\n",
    "\n",
    "# vector de starts\n",
    "starts\n",
    "# vector de contenido GC \n",
    "chunkGCs"
   ]
  },
  {
   "cell_type": "markdown",
   "metadata": {},
   "source": [
    "Ahora vamos a realizar una gráfica que contiene en el eje x a la posición de inicio de la ventana (``chunk``) de DNA y en el eje j el contenido de GC correspondiente ``chunkGC``"
   ]
  },
  {
   "cell_type": "code",
   "execution_count": null,
   "metadata": {
    "vscode": {
     "languageId": "r"
    }
   },
   "outputs": [],
   "source": [
    "plot(starts,chunkGCs,type=\"b\",xlab=\"Nucleotide start position\",ylab=\"GC content\")"
   ]
  },
  {
   "cell_type": "markdown",
   "metadata": {},
   "source": [
    "Antes de continuar haremos un Intermezzo sobre cómo escribir una función en R personalizada, para luego aplicarla  de nuevo en una gráfica \"sliding window\" más flexible"
   ]
  },
  {
   "cell_type": "code",
   "execution_count": null,
   "metadata": {
    "vscode": {
     "languageId": "r"
    }
   },
   "outputs": [],
   "source": [
    "# Cómo escribir una función personalizada\n",
    "# La función se nombra: \"mifuncion\")\n",
    "# Se define en terminos de algun(os) parámetro(s) de entrada: x\n",
    "# Se escribe la salida \"return\": 20 + x*x\n",
    "mifuncion <- function(x) { return(20 + (x*x)) } #la definición de la función está entre los corchetes\n",
    "mifuncion(10)\n",
    "mifuncion(25)\n",
    "mifuncion #al escribir una función se muestra su definición"
   ]
  },
  {
   "cell_type": "markdown",
   "metadata": {},
   "source": [
    "Asimismo podemos definir una gráfica con dos variables (para los ejes x y y) para cualquier tamaño de ventana y cualquier secuencia "
   ]
  },
  {
   "cell_type": "code",
   "execution_count": null,
   "metadata": {
    "vscode": {
     "languageId": "r"
    }
   },
   "outputs": [],
   "source": [
    "slidingwindowplot <- function(windowsize, inputseq) # nombra la función y se definen las variables de entrada \n",
    "{\n",
    "   starts <- seq(1, length(inputseq)-windowsize, by = windowsize)\n",
    "   n <- length(starts)    \n",
    "   chunkGCs <- numeric(n) \n",
    "   for (i in 1:n) {\n",
    "        chunk <- inputseq[starts[i]:(starts[i]+windowsize-1)]\n",
    "        chunkGC <- GC(chunk)\n",
    "        print(chunkGC)\n",
    "        chunkGCs[i] <- chunkGC\n",
    "   }\n",
    "   plot(starts,chunkGCs,type=\"b\",xlab=\"Nucleotide start position\",ylab=\"GC content\")\n",
    "}\n",
    "\n",
    "# Llamamos la función\n",
    "slidingwindowplot(3000, covidseq)\n",
    "\n",
    "# Podemos guardar esta gráfica en pdf\n",
    "pdf(\"covid_sw3000.pdf\")\n",
    "slidingwindowplot(3000, covidseq)\n",
    "dev.off()"
   ]
  },
  {
   "cell_type": "markdown",
   "metadata": {},
   "source": [
    "<div class=\"alert alert-block alert-info\">\n",
    "<b>Ejercicio</b> \n",
    " Despliegue las gráficas de sliding window para una ventana de 500\n",
    "</div>"
   ]
  }
 ],
 "metadata": {
  "kernelspec": {
   "display_name": "Python 3 (ipykernel)",
   "language": "python",
   "name": "python3"
  },
  "language_info": {
   "codemirror_mode": {
    "name": "ipython",
    "version": 3
   },
   "file_extension": ".py",
   "mimetype": "text/x-python",
   "name": "python",
   "nbconvert_exporter": "python",
   "pygments_lexer": "ipython3",
   "version": "3.8.1"
  },
  "widgets": {
   "application/vnd.jupyter.widget-state+json": {
    "state": {},
    "version_major": 2,
    "version_minor": 0
   }
  }
 },
 "nbformat": 4,
 "nbformat_minor": 4
}
