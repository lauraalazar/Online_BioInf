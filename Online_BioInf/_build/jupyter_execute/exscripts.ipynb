{
 "cells": [
  {
   "cell_type": "markdown",
   "metadata": {},
   "source": [
    "# Scripts Ejecutables\n",
    "\n",
    "\n",
    "Ahora que ya estamos un poco familiarizados con la línea de comando, vamos a utilizar algunas herramientas básicas de programación: al digitar un comando, este da una instrucción para recibir una inofrmación. Este proceso se puede **automatizar** (por ejemplo mover, renombrar y copiar archivos), escribiendo el comando en un **script**. \n",
    "\n",
    "Los scripts son la forma mas simple de escribir un programa. Vamos a escribir un **script bash** y a ejecutarlo.\n",
    "\n",
    "## Editores de Texto\n",
    "\n",
    "Dentro del directorio ``biocomp_clase1`` vamos a crear un nuevo archivo llamado ``miscript.sh``. Puedes hacer esto utilizando un editor de texto de terminal llamado ``nano``\n",
    "\n",
    "```\n",
    "nano miscript.sh\n",
    "```\n",
    "\n",
    "Este comando inicia el editor de texto. A continuación escriba ``echo Hello World!``. \"Hello World!\" es una frase icónica en programación y \"echo\" es una instrucción que reproduce el texto que sigue. Guarde el archivo usando ``[ctrl-o] [enter]``  y cierre el programa con ``[ctrl-x] [enter]``. En la terminal, ejecute el script con el siguiente comando:\n",
    "\n",
    "```\n",
    "bash miscript.sh\n",
    "```\n",
    "\n",
    "**Bash** es un \"interpretador\" que lee el archivo y entiende cómo ejecutar el comando."
   ]
  },
  {
   "cell_type": "markdown",
   "metadata": {},
   "source": [
    "Otra opción para editor de text es *Vim*, aunque requiere mas comandos para cada instrucción, está disponible en casi todas la instalaciones de linux \n",
    "\n",
    "```\n",
    "vim miscript.sh\n",
    "```\n",
    "\n",
    "Después, presione la tecla ``[i]`` para entrar en modo de inserción. \n",
    "En la parte inferior debe aparecer *-- INSERT --* y entonces puede añadirl el texto \"echo Hello World!\".\n",
    "Para guardar y salir de Vim haga lo siguiente: \n",
    "\n",
    "1. Cambie a modo de comando presionando ``[Esc]``\n",
    "\n",
    "2. Escriba ``[:]`` (dos puntos) para abrir la barra prompt bar en la esquina inferior izquierda.\n",
    "\n",
    "3. Escriba ``[x]`` después de \":\" y  ``[Enter]``"
   ]
  },
  {
   "cell_type": "markdown",
   "metadata": {},
   "source": [
    "## Hacer un archivo ejecutable\n",
    "\n",
    "Liste los archivos en el directorio con la opción ``-l`` para mas información\n",
    "\n",
    "```\n",
    "ls -l\n",
    "total 12\n",
    "-rw-r--r-- 1 usuario root   18 Jun 26 10:56 miscript.sh\n",
    "```\n",
    "\n",
    "La primera lista de caracteres indica los **permisos** del archivo. Aquí vemos que el usuario tiene permiso de lectura (``r``) y escritura (``w``), pero no de ejecución(``x``). \n",
    "Para entender mejor este tema puede consultar este [tutorial sobre permisos](https://ryanstutorials.net/linuxtutorial/permissions.php). Vamos a cambiar el permiso de ejecución \n",
    "\n",
    "```\n",
    "chmod a+x miscript.sh\n",
    "```\n",
    "\n",
    "Ahora todos los usuarios tienen permiso para ejecutar el archivo. Como es un script muy simple y sin consecuencias, no nos preocupa que todos tengan permisos. En otros casos es muy importante tener cuidado. Ahora lo podemos ejecutar:\n",
    "\n",
    "```\n",
    "./miscript.sh\n",
    "```\n",
    "\n",
    "\n",
    "<div class=\"alert alert-block alert-warning\">\n",
    "<b>Ejemplo de script:</b> Con frecuencia se recomienda añadir una primera línea en el script que indica el interpretador que se debe usar. En este caso es el interpretador por defecto (bash), pero no es siempre el caso. Además se usa escribir una línea que describe el propósito del script y que está precedida por el símbolo ``#`` que indica que es un comentario\n",
    "\n",
    "```\n",
    "#!/bin/bash\n",
    "# Script de ejemplo para la práctica 1 de Comp. Biol\n",
    "\n",
    "echo Hello World!\n",
    "```\n"
   ]
  }
 ],
 "metadata": {
  "language_info": {
   "name": "python"
  }
 },
 "nbformat": 4,
 "nbformat_minor": 2
}